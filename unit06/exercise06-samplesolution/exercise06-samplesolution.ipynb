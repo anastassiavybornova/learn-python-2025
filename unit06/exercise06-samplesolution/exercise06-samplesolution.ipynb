{
 "cells": [
  {
   "cell_type": "markdown",
   "id": "7e5af28b",
   "metadata": {},
   "source": [
    "# Python Crash Course - Exercise 06\n",
    "\n",
    "Topics covered:\n",
    "* Importing packages in the jupyter notebook session\n",
    "* Python from the CLI\n",
    "* Running Python scripts from the CLI\n",
    "* Running Python scripts in the jupyter notebook\n",
    "* **if there is time** Text processing: regex & reading in txt files\n",
    "\n",
    "Tasks:\n",
    "* Task 0: packages setup\n",
    "* Task 1: Python from the CLI\n",
    "* Tasks 2-4: Running .py files\n",
    "* **if there is time** Tasks 5 & 6: text processing"
   ]
  },
  {
   "cell_type": "markdown",
   "id": "e3a21194",
   "metadata": {},
   "source": [
    "# Task 0 - packages setup\n",
    "\n",
    "Make sure (with the help of the TAs) that you know how to load pandas and matplotlib.pyplot. If the code below runs without error messages, you're good to go! (We will use pandas and matplotlib in later lectures and exercises.)"
   ]
  },
  {
   "cell_type": "code",
   "execution_count": null,
   "id": "62249e37",
   "metadata": {},
   "outputs": [],
   "source": [
    "# run this cell to check that you can import pandas and matplotlib correctly\n",
    "import pandas as pd\n",
    "import matplotlib.pyplot as plt\n",
    "\n",
    "# create a pandas DataFrame object\n",
    "df = pd.DataFrame(\n",
    "    {\n",
    "        \"weekdays\": [\"mon\", \"tue\", \"wed\", \"thu\", \"fri\", \"sat\", \"sun\"],\n",
    "        \"visitors\": [30, 78, 19, 57, 29, 10, 0]\n",
    "    }\n",
    ")\n",
    "\n",
    "fig, ax = plt.subplots(1,1) # create a figure object and an axis object\n",
    "\n",
    "# draw a barplot on the axis object\n",
    "ax.bar(\n",
    "    x = df.weekdays, # x-position\n",
    "    height = df.visitors, # y-height\n",
    "    color = \"pink\" # change the color of the bar\n",
    ")\n",
    "ax.set_xlabel(\"Weekday\") # label the x axis\n",
    "ax.set_ylabel(\"Ticket count\") # label the y axis\n",
    "plt.title(\"Tickets sold\") # add a plot title\n",
    "plt.show() # show the plot below\n"
   ]
  },
  {
   "cell_type": "markdown",
   "id": "dec9dfba",
   "metadata": {},
   "source": [
    "## Task 1 - Back to basics (in the command line interface)\n",
    "\n",
    "Navigate to your CLI. Type `python`, then enter. The `>>>` at the start of each line indicate that you are in a Python session now. See if you manage to execute the following Python statements in the CLI:\n",
    "\n",
    "* $2*2 + 3*3$\n",
    "* $5^{3} > 100$\n",
    "* `(True or False) == True`\n",
    "* `print(\"goodbye world\")`\n",
    "\n",
    "**Exit the Python session** by typing `exit()`, then enter."
   ]
  },
  {
   "cell_type": "markdown",
   "id": "23ab3476",
   "metadata": {},
   "source": [
    "## Task 2 - Running a .py script from the CLI\n",
    "\n",
    "* Together with this notebook, we provided a Python script called `somecode.py`. Open it up (in the text editing software of your choice) and try to predict what the `print()` statement (last line of code) will output. \n",
    "* Now, open your CLI (command line interface) and navigate to the folder where you saved `somecode.py`\n",
    "* Run the script by typing `python somecode.py`, then enter\n",
    "* Check if the output is what you expected! "
   ]
  },
  {
   "cell_type": "code",
   "execution_count": null,
   "id": "fc2a61d3",
   "metadata": {},
   "outputs": [],
   "source": [
    "# you can also try to run the code here with %run"
   ]
  },
  {
   "cell_type": "markdown",
   "id": "624863ec",
   "metadata": {},
   "source": [
    "**Comment:** In `somecode.py`, we define a function that takes an integer x as an input; creates a list of all numbers from 0 up to **and including** x; and returns the sum of that list. When given `4`, the function returns `0+1+2+3+4`, i.e. `10`"
   ]
  },
  {
   "cell_type": "markdown",
   "id": "aa2ea98f",
   "metadata": {},
   "source": [
    "## Task 3 - Running your own .py script from the CLI\n",
    "\n",
    "Let's create a program that will tell the user their age in minutes!\n",
    "* Create a file called `minutes.py`, in the folder of your choice.\n",
    "* Open up the CLI, navigate to the folder, and type `python minutes.py`, then enter\n",
    "* Check if the output is what you expected!\n",
    "\n",
    "in the script you should:\n",
    "* ask the user for their age\n",
    "* convert the user input into a numeric variable\n",
    "* compute the user's age in minutes\n",
    "* print out \"Your age in minutes is...\", inserting the minutes\n",
    "\n",
    "You are also welcome to experiment with any other script that you want to try and run from the CLI!"
   ]
  },
  {
   "cell_type": "markdown",
   "id": "12a34632",
   "metadata": {},
   "source": [
    "**Comment**: See sample solution in `minutes.py` file attached. "
   ]
  },
  {
   "cell_type": "code",
   "execution_count": null,
   "id": "bfd11ca8",
   "metadata": {},
   "outputs": [],
   "source": [
    "# you can try to run your minutes.py script from here, as well (with %run)\n",
    "# %run minutes.py"
   ]
  },
  {
   "cell_type": "markdown",
   "id": "385e6298",
   "metadata": {},
   "source": [
    "## Task 4 - `smalltalk.py`\n",
    "\n",
    "Write a `smalltalk.py` script that\n",
    "* asks the user how they are doing \"on a scale from 1 to 5\"\n",
    "* prints out an appropriate reply (depending on the user input)\n",
    "* asks the user whether they like the weather today\n",
    "* prints out an appropriate reply (depending on whether the user said \"yes\" or \"no\")\n",
    "* says goodbye to the user in a polite way\n",
    "\n",
    "**Notes** you can (but you don't have to) use function definitions within `smalltalk.py` to solve this task. You can (but you don't have to) implement some error catching, for example when the first user input is NOT a number from 1 to 5, or if the second user input is NOT either \"yes\" or \"no\"."
   ]
  },
  {
   "cell_type": "code",
   "execution_count": null,
   "id": "62658b79",
   "metadata": {},
   "outputs": [],
   "source": [
    "# you can try to run smalltalk.py here with %run\n",
    "# %run smalltalk.py"
   ]
  },
  {
   "cell_type": "markdown",
   "id": "6be736d2",
   "metadata": {},
   "source": [
    "**Comment**: See sample solution in `smalltalk.py` file attached. "
   ]
  },
  {
   "cell_type": "markdown",
   "id": "cf0de2c9",
   "metadata": {},
   "source": [
    "# Task 5: String formatting - Capital cities\n",
    "\n",
    "Below, we provide you with a dictionary `capitals`, that contains key-value pairs with countries as keys, and their capital cities as values. Let's do some data cleaning first:\n",
    "* Some cities' names contain numbers; these need to be deleted\n",
    "* Some cities' names consist of several words, but lack a white space; insert a white space where appropriate (for example, \"AddisAbaba\" needs to be formatted into \"Addis Ababa\").\n",
    "\n",
    "Now, use the `f'{}'` syntax to generate a file where in each line contains one sentence: `The capital of <country> is <city>.`, inserting countries and capitals from the dictionary. Save the file to `capitals.txt`. "
   ]
  },
  {
   "cell_type": "code",
   "execution_count": null,
   "id": "f33b72f4",
   "metadata": {},
   "outputs": [],
   "source": [
    "capitals = {\n",
    "    \"Nigeria\" : \"Abuja\",\n",
    "    \"Colombia\" : \"0Bo0gotá\",\n",
    "    \"Gibraltar\": \"Gibr2altar\",\n",
    "    \"Ethiopia\": \"AddisAb3aba\",\n",
    "    \"United Arab Emirates\": \"AbuDhab7i\"\n",
    "}"
   ]
  },
  {
   "cell_type": "code",
   "execution_count": null,
   "id": "9a2ab602",
   "metadata": {},
   "outputs": [],
   "source": [
    "# import re module\n",
    "import re\n",
    "\n",
    "# remove numbers from dictionary values with the help of the \"\\d\" or \"\\d+\" regex \n",
    "\n",
    "# loop through dictionary items\n",
    "for key, value in capitals.items():\n",
    "    # loop through all numbers that were found in the value string\n",
    "    for item in re.findall(\"\\d\", value):\n",
    "        # reassign the new value, where item (the number) is replaced by \"\" (an empty string)\n",
    "        capitals[key] = capitals[key].replace(item, \"\")        \n",
    "capitals"
   ]
  },
  {
   "cell_type": "code",
   "execution_count": null,
   "id": "bedb101b",
   "metadata": {},
   "outputs": [],
   "source": [
    "# add white spaces before capital letters \n",
    "# (you can use the regex \"[A-Z]\" to find capital letters)\n",
    "\n",
    "# the way we know that a white space is missing:\n",
    "# if there is a capital letter \"in the middle\" of the word,\n",
    "# i.e. at position >0.\n",
    "\n",
    "# as above, loop through dictionary items,\n",
    "# this time inserting a white space BEFORE a capital letter,\n",
    "# if it is at a position >0.\n",
    "# loop through dictionary items\n",
    "for key, value in capitals.items():\n",
    "    # loop through all numbers that were found in the value string (excluding the first letter)\n",
    "    for item in re.findall(\"[A-Z]\", value[1:]):\n",
    "        # replace the capital letter by (whitespace + the capital letter)\n",
    "        capitals[key] = capitals[key].replace(item, \" \" + item)\n",
    "capitals"
   ]
  },
  {
   "cell_type": "code",
   "execution_count": null,
   "id": "39a4bd51",
   "metadata": {},
   "outputs": [],
   "source": [
    "# open up the file; with the opened file,\n",
    "    # loop through the dictionary items;\n",
    "    # create a sentence from keys and values (with string formatting) at each iteration step;\n",
    "    # wrte the sentence + a linebreak (expressed as \"\\n\") string to the file\n",
    "\n",
    "\n",
    "# create the file\n",
    "with open('capitals.txt', 'w') as opened_file:\n",
    "    # loop through the dictionary items\n",
    "    for key, value in capitals.items():\n",
    "        # create the sentence for this key-value pair\n",
    "        sentence = f\"The capital of {key} is {value}.\"\n",
    "        # write the sentence to the file\n",
    "        opened_file.write(sentence)\n",
    "        # add a line break\n",
    "        opened_file.write(\"\\n\")"
   ]
  },
  {
   "cell_type": "markdown",
   "id": "94d90074",
   "metadata": {},
   "source": [
    "# Task 6: Text processing - Numbers in an article\n",
    "\n",
    "In the file `article.txt`, we provide the text of this [Guardian article](https://www.theguardian.com/commentisfree/2025/apr/18/i-fear-im-doing-friendship-wrong-why-do-we-lose-the-art-of-just-hanging-out) by Carolin Würfel. Let's say we are **VERY** interested in all the **numbers** that she used in the article. Your tasks:\n",
    "\n",
    "* `.read()` in the text file \n",
    "* find all the numbers (of one or more characters, with the regex `\"\\d+\"`) mentioned in the text, and print them out\n",
    "* `.split()` the text into separate sentences\n",
    "* loop through the sentences, `.append()`ing only the ones that contain numbers to a list\n",
    "* Additional challenge: try to write this list to a text file, so that every line in the text file is a sentence (with a number) from the article"
   ]
  },
  {
   "cell_type": "code",
   "execution_count": null,
   "id": "a0b075a6",
   "metadata": {},
   "outputs": [],
   "source": [
    "# if not done yet, import the re module\n",
    "import re"
   ]
  },
  {
   "cell_type": "code",
   "execution_count": null,
   "id": "ac73708e",
   "metadata": {},
   "outputs": [],
   "source": [
    "# .read() in the text file\n",
    "with open('article.txt', 'r') as opened_file:\n",
    "    my_text = opened_file.read()"
   ]
  },
  {
   "cell_type": "code",
   "execution_count": null,
   "id": "a8894ebb",
   "metadata": {},
   "outputs": [],
   "source": [
    "# print out all numbers (regex \"\\d+\") that you can find\n",
    "re.findall(\"\\d+\", my_text)"
   ]
  },
  {
   "cell_type": "code",
   "execution_count": null,
   "id": "aea038eb",
   "metadata": {},
   "outputs": [],
   "source": [
    "# split into sentences \n",
    "\n",
    "# with the \".\" as separator\n",
    "sentences = my_text.split(\". \")\n",
    "sentences # my sentences is now a list of strings, every string is a sentence (now without the \".\")"
   ]
  },
  {
   "cell_type": "code",
   "execution_count": null,
   "id": "ea3caea7",
   "metadata": {},
   "outputs": [],
   "source": [
    "# find all sentences that contain numbers, and append them to a list\n",
    "\n",
    "sentences_with_numbers = []\n",
    "\n",
    "for sentence in sentences:\n",
    "    if re.search(\"\\d+\", sentence):\n",
    "        sentences_with_numbers.append(sentence)\n",
    "\n",
    "print(sentences_with_numbers)"
   ]
  },
  {
   "cell_type": "code",
   "execution_count": null,
   "id": "a1d73dd9",
   "metadata": {},
   "outputs": [],
   "source": [
    "# Challenge: write the sentences_with_numbers to a file\n",
    "\n",
    "with open(\"sentences_with_numbers.txt\", \"w\") as opened_file:\n",
    "    for sentence in sentences_with_numbers:\n",
    "        opened_file.write(sentence + \"\\n\") # write each sentence plus a line break\n"
   ]
  }
 ],
 "metadata": {
  "kernelspec": {
   "display_name": "Python 3",
   "language": "python",
   "name": "python3"
  },
  "language_info": {
   "codemirror_mode": {
    "name": "ipython",
    "version": 3
   },
   "file_extension": ".py",
   "mimetype": "text/x-python",
   "name": "python",
   "nbconvert_exporter": "python",
   "pygments_lexer": "ipython3",
   "version": "3.10.12"
  }
 },
 "nbformat": 4,
 "nbformat_minor": 5
}
