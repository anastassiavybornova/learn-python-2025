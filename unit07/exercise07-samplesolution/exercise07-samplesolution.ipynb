{
 "cells": [
  {
   "cell_type": "markdown",
   "metadata": {},
   "source": [
    "**Very first step: import the modules and packages used in this notebook**"
   ]
  },
  {
   "cell_type": "code",
   "execution_count": null,
   "metadata": {},
   "outputs": [],
   "source": [
    "# import pandas under the alias \"pd\"\n",
    "import pandas as pd"
   ]
  },
  {
   "cell_type": "markdown",
   "metadata": {},
   "source": [
    "# Python Crash Course - Exercise 07\n",
    "\n",
    "Topics covered:\n",
    "* list comprehensions\n",
    "* pandas\n",
    "\n",
    "Tasks:\n",
    "* Task 1: List Comprehension\n",
    "* Task 2: Crude Oil Exports (with pandas)\n",
    "* Task 3: Greatest Hits (with pandas)\n"
   ]
  },
  {
   "cell_type": "markdown",
   "metadata": {},
   "source": [
    "## Task 1 - List comprehension\n",
    "\n",
    "Use list comprehension to create the following lists:\n",
    "\n",
    "* A list of all numbers in the `range(10,21)`\n",
    "* A list of all numbers divisible by 4 in the `range(30,60)`\n",
    "* A list of all even numbers from 91 to 98 (both included)\n",
    "* A list of all consonants in the string `\"Better safe than sorry\"` (don't include white spaces)\n",
    "\n",
    "Each of these lists could also be created by a for-loop. If you have time, try to recreate each of these lists using a for-loop! "
   ]
  },
  {
   "cell_type": "code",
   "execution_count": null,
   "metadata": {},
   "outputs": [],
   "source": [
    "# A list of all numbers in the `range(10,21)`\n",
    "[i for i in range(10,21)]"
   ]
  },
  {
   "cell_type": "code",
   "execution_count": null,
   "metadata": {},
   "outputs": [],
   "source": [
    "# A list of all numbers divisible by 4 in the `range(30,60)`\n",
    "[i for i in range(30,60) if i % 4 == 0]"
   ]
  },
  {
   "cell_type": "code",
   "execution_count": null,
   "metadata": {},
   "outputs": [],
   "source": [
    "# A list of all even numbers from 91 to 98 (both included)\n",
    "[i for i in range(91,99) if i % 2 == 0]\n",
    "# NOTE: to include 98, we need to set the range up to 99"
   ]
  },
  {
   "cell_type": "code",
   "execution_count": null,
   "metadata": {},
   "outputs": [],
   "source": [
    "# A list of all consonants in the string \n",
    "# `\"Better safe than sorry\"` (don't include white spaces)\n",
    "characters_to_exclude = [\"a\", \"e\", \"i\", \"o\", \"u\", \"y\", \" \"]\n",
    "[x for x in \"Better safe than sorry\" if x not in characters_to_exclude]"
   ]
  },
  {
   "cell_type": "markdown",
   "metadata": {},
   "source": [
    "# Task 2: Crude Oil Exports\n",
    "\n",
    "Together with this notebook, you are provided the file `./data/oil/oil.csv`, with data provided by [UNdata](http://data.un.org/Explorer.aspx?d=EDATA&f=cmID%3aCR). It contains data on crude oil exports across all countries. For each of the subtasks below, you will find instructions in the code cells. Each of the code cell instructions can be solved by **1-2 lines of code**!\n",
    "\n",
    "* Task 2a: Read in & explore the data\n",
    "* Task 2b: Clean the data\n",
    "* Task 2c: Access parts of the data\n",
    "* Task 2d: Zoom in on a subset & explore the data\n",
    "* Task 2e: Write your manipulated data set to a file"
   ]
  },
  {
   "cell_type": "markdown",
   "metadata": {},
   "source": [
    "## Task 2a: Read in and explore the data"
   ]
  },
  {
   "cell_type": "code",
   "execution_count": null,
   "metadata": {},
   "outputs": [],
   "source": [
    "# read in with pandas\n",
    "oil = pd.read_csv(\"./data/oil/oil.csv\")"
   ]
  },
  {
   "cell_type": "code",
   "execution_count": null,
   "metadata": {},
   "outputs": [],
   "source": [
    "# display the first 10 rows\n",
    "oil.head(10)"
   ]
  },
  {
   "cell_type": "code",
   "execution_count": null,
   "metadata": {},
   "outputs": [],
   "source": [
    "# display the last 8 rows\n",
    "oil.tail(8)"
   ]
  },
  {
   "cell_type": "code",
   "execution_count": null,
   "metadata": {},
   "outputs": [],
   "source": [
    "# display the names of the columns\n",
    "oil.columns"
   ]
  },
  {
   "cell_type": "code",
   "execution_count": null,
   "metadata": {},
   "outputs": [],
   "source": [
    "# display the data types in the columns\n",
    "oil.dtypes"
   ]
  },
  {
   "cell_type": "code",
   "execution_count": null,
   "metadata": {},
   "outputs": [],
   "source": [
    "# display the row labels (the index)\n",
    "oil.index"
   ]
  },
  {
   "cell_type": "code",
   "execution_count": null,
   "metadata": {},
   "outputs": [],
   "source": [
    "# how many rows does the data set have?\n",
    "len(oil)"
   ]
  },
  {
   "cell_type": "code",
   "execution_count": null,
   "metadata": {},
   "outputs": [],
   "source": [
    "# display the summary statistics for this dataset\n",
    "oil.describe()"
   ]
  },
  {
   "cell_type": "markdown",
   "metadata": {},
   "source": [
    "## Task 2b: Clean the data \n",
    "In this task, we will remove not needed columns, and all rows where we have missing values. Then, we will convert some of the columns into a different data type."
   ]
  },
  {
   "cell_type": "code",
   "execution_count": null,
   "metadata": {},
   "outputs": [],
   "source": [
    "# remove the columns \"Quantity Footnotes\" and \"Unit\"\n",
    "oil = oil.drop(columns = [\"Quantity Footnotes\", \"Unit\"])\n",
    "# equivalent to: oil.drop(columns = [\"Quantity Footnotes\", \"Unit\"], inplace = True)"
   ]
  },
  {
   "cell_type": "code",
   "execution_count": null,
   "metadata": {},
   "outputs": [],
   "source": [
    "# remove rows (if any) where \"Country or Area\" is not availabe using boolean indexing with \".notna()\"\n",
    "any(oil[\"Country or Area\"].isna()) # there are no missing values in this column"
   ]
  },
  {
   "cell_type": "code",
   "execution_count": null,
   "metadata": {},
   "outputs": [],
   "source": [
    "# remove rows (if any) where \"Year\" is missing \n",
    "# any(oil[\"Year\"].isna()) returns True, there are some missing values\n",
    "oil = oil[oil[\"Year\"].notna()] # keep only rows where Year is not missing"
   ]
  },
  {
   "cell_type": "code",
   "execution_count": null,
   "metadata": {},
   "outputs": [],
   "source": [
    "# remove rows (if any) where \"Quantity\" is missing\n",
    "any(oil[\"Quantity\"].isna()) # there are no missing values in this column"
   ]
  },
  {
   "cell_type": "code",
   "execution_count": null,
   "metadata": {},
   "outputs": [],
   "source": [
    "# check whether all the rows of \"Commodity - Transaction\" contain the same value, \n",
    "# 'Conventional crude oil - exports' \n",
    "all(oil[\"Commodity - Transaction\"] == 'Conventional crude oil - exports') # yes"
   ]
  },
  {
   "cell_type": "code",
   "execution_count": null,
   "metadata": {},
   "outputs": [],
   "source": [
    "# how many rows do we have in our data set now?\n",
    "len(oil)"
   ]
  },
  {
   "cell_type": "code",
   "execution_count": null,
   "metadata": {},
   "outputs": [],
   "source": [
    "# change the datatype of the \"Year\" column to integer\n",
    "oil[\"Year\"] = oil[\"Year\"].astype(int)"
   ]
  },
  {
   "cell_type": "markdown",
   "metadata": {},
   "source": [
    "## Task 2c: Access parts of the data"
   ]
  },
  {
   "cell_type": "code",
   "execution_count": null,
   "metadata": {},
   "outputs": [],
   "source": [
    "# display only the \"Country or Area\" column\n",
    "oil[\"Country or Area\"]"
   ]
  },
  {
   "cell_type": "code",
   "execution_count": null,
   "metadata": {},
   "outputs": [],
   "source": [
    "# display only the data from the first row of the data set\n",
    "oil.loc[0]"
   ]
  },
  {
   "cell_type": "code",
   "execution_count": null,
   "metadata": {},
   "outputs": [],
   "source": [
    "# display the part of the dataset where \"Country or Area\" is \"Costa Rica\"\n",
    "oil[oil[\"Country or Area\"]==\"Costa Rica\"]"
   ]
  },
  {
   "cell_type": "code",
   "execution_count": null,
   "metadata": {},
   "outputs": [],
   "source": [
    "# display the part of the data set that contains data for the year 2010\n",
    "oil[oil[\"Year\"]==2010]"
   ]
  },
  {
   "cell_type": "code",
   "execution_count": null,
   "metadata": {},
   "outputs": [],
   "source": [
    "# display the part of the data set that contains quantities over 200000 \n",
    "# (two hundred thousand) (in thousand metric tons, unit of the \"Quantity\" column); \n",
    "# who are the big exporters?\n",
    "oil[oil[\"Quantity\"]>2*10**5]"
   ]
  },
  {
   "cell_type": "code",
   "execution_count": null,
   "metadata": {},
   "outputs": [],
   "source": [
    "# display the row in the data set that shows how much oil \n",
    "# (in thousand metric tons, unit of the \"Quantity\" column)\n",
    "# Denmark exported in 2020 \n",
    "oil[(oil[\"Country or Area\"]==\"Denmark\") & (oil[\"Year\"]==2020)]"
   ]
  },
  {
   "cell_type": "code",
   "execution_count": null,
   "metadata": {},
   "outputs": [],
   "source": [
    "# display the part of the data set that shows export quantities over 30 000 \n",
    "# (thirty thousand) for the year 1990\n",
    "# (in thousand metric tons, unit of the \"Quantity\" column)\n",
    "oil[(oil[\"Quantity\"]>30000) & (oil[\"Year\"]==1990)]"
   ]
  },
  {
   "cell_type": "code",
   "execution_count": null,
   "metadata": {},
   "outputs": [],
   "source": [
    "# Which countries did not export any oil in 2017?\n",
    "# (display the subset of the dataframe) \n",
    "oil[(oil[\"Year\"]==2017) & (oil[\"Quantity\"]==0)]"
   ]
  },
  {
   "cell_type": "markdown",
   "metadata": {},
   "source": [
    "## Task 2d: Zoom in on a subset & explore the data\n",
    "\n",
    "From now on, we will work with only a **subset** of the data set, looking only at the **most recent year** for which data is availabe. Make sure that you create a copy of the dataframe that you used until now, using the `.copy()` method, so that our manipulations of the subset data frame will not affect the original data frame."
   ]
  },
  {
   "cell_type": "code",
   "execution_count": null,
   "metadata": {},
   "outputs": [],
   "source": [
    "# copy the part of the data set for the MOST RECENT year into a separate data frame \n",
    "# called oilXXXX (XXXX standing for the most recent year)\n",
    "max(oil[\"Year\"]) # most recent year"
   ]
  },
  {
   "cell_type": "code",
   "execution_count": null,
   "metadata": {},
   "outputs": [],
   "source": [
    "oil2021 = oil[oil[\"Year\"]==2021].copy()"
   ]
  },
  {
   "cell_type": "code",
   "execution_count": null,
   "metadata": {},
   "outputs": [],
   "source": [
    "# what is the TOTAL quantity of exported oil? (summed over all countries)\n",
    "# save the value to a variable called total_exports\n",
    "total_exports = sum(oil2021[\"Quantity\"])\n",
    "print(total_exports) # over 1.2 million (of thousand metric tons)"
   ]
  },
  {
   "cell_type": "code",
   "execution_count": null,
   "metadata": {},
   "outputs": [],
   "source": [
    "# sort the rows by descending value of \"Quantity\" \n",
    "# (i.e. the first row should contain the biggest exporter, etc.)\n",
    "# make sure that you don't just *display* the sorted dataframe, but actually \n",
    "# *change* the dataframe into a sorted-by-quantity one\n",
    "oil2021 = oil2021.sort_values(by = \"Quantity\", ascending = False)\n",
    "# equivalent to: oil2021.sort_values(by = \"Quantity\", ascending = False, inplace = True)"
   ]
  },
  {
   "cell_type": "code",
   "execution_count": null,
   "metadata": {},
   "outputs": [],
   "source": [
    "# add a new column called \"perc\" to the dataframe; in this column,\n",
    "# compute, for each country, what percentage of total_exports \n",
    "# their exported quantity translates to.\n",
    "oil2021[\"perc\"] = 100 * oil[\"Quantity\"] / total_exports"
   ]
  },
  {
   "cell_type": "code",
   "execution_count": null,
   "metadata": {},
   "outputs": [],
   "source": [
    "# display the first 10 rows one more time: \n",
    "# now you should see what are the biggest 10 exporters in the most recent year?\n",
    "oil2021.head(10)"
   ]
  },
  {
   "cell_type": "code",
   "execution_count": null,
   "metadata": {},
   "outputs": [],
   "source": [
    "# for a country of your choice that is not on the \"top 10\", \n",
    "# find out what is their percentage of total exports?\n",
    "# (just display the row for that country)\n",
    "oil2021[oil2021[\"Country or Area\"]==\"Romania\"] # for example for Romania"
   ]
  },
  {
   "cell_type": "code",
   "execution_count": null,
   "metadata": {},
   "outputs": [],
   "source": [
    "# find out which country exported the most, and which country exported the least;\n",
    "# what is the ratio (proportion) of the biggest vs. smallest export quantity?"
   ]
  },
  {
   "cell_type": "code",
   "execution_count": null,
   "metadata": {},
   "outputs": [],
   "source": [
    "# biggest export\n",
    "oil2021[oil2021[\"Quantity\"]==max(oil2021[\"Quantity\"])]"
   ]
  },
  {
   "cell_type": "code",
   "execution_count": null,
   "metadata": {},
   "outputs": [],
   "source": [
    "# smallest export\n",
    "oil2021[oil2021[\"Quantity\"]==min(oil2021[\"Quantity\"])]"
   ]
  },
  {
   "cell_type": "code",
   "execution_count": null,
   "metadata": {},
   "outputs": [],
   "source": [
    "# ratio\n",
    "max(oil2021[\"Quantity\"])/min(oil2021[\"Quantity\"])\n",
    "# (almost 2 million times more)"
   ]
  },
  {
   "cell_type": "markdown",
   "metadata": {},
   "source": [
    "## Task 2e: Write your manipulated data set to a file\n",
    "\n",
    "Write the data set from the previous file (with data only on the most recent year; and with the added column containig percentages) to a file."
   ]
  },
  {
   "cell_type": "code",
   "execution_count": null,
   "metadata": {},
   "outputs": [],
   "source": [
    "# write to csv with the help of pandas (you don't need to write the row labels (index) to the file)\n",
    "oil2021.to_csv(\"oil2021.csv\", index = False)"
   ]
  },
  {
   "cell_type": "code",
   "execution_count": null,
   "metadata": {},
   "outputs": [],
   "source": [
    "# read back into a variable called \"df\" in & display the first 10 rows to check\n",
    "df = pd.read_csv(\"oil2021.csv\")\n",
    "df.head(10)"
   ]
  },
  {
   "cell_type": "markdown",
   "metadata": {},
   "source": [
    "# Task 3 - Greatest Hits\n",
    "\n",
    "We will be working with a data set of popular Spotify songs 1998-2020 (taken from [Kaggle](https://www.kaggle.com/datasets/paradisejoy/top-hits-spotify-from-20002019)). We have one .csv file for each year (as indicated in the file name).\n",
    "\n",
    "Your task is to:\n",
    "1. Read in all files as pandas data frames, and add a `year` column that contains the year (according to the file name);\n",
    "2. concatenate the yearly data sets into **one single pandas DataFrame**;\n",
    "3. The \"genre\" column contains 0 to several genres for each record - add a \"genres\" column that contains all genres for that record as list of strings (`.split()` can come in handy here!)\n",
    "4. Now, write the function `next_on_my_playlist()` that takes your modified dataframe as input and will suggest to you which song you should listen to next.\n",
    "\n",
    "***\n",
    "\n",
    "**Input specifications for `next_on_my_playlist()`:**\n",
    "* `next_on_my_playlist()` takes the *required* input parameter `data` (here, you will pass the single pandas DataFrame as argument); and the *optional* input parameters `year`, `energy_above`, `genre`; \n",
    "* `year`and `genre` are categorical variables (i.e. there is a limited set of possible values);\n",
    "* `energy_above` is a numerical variable (i.e. an interval)\n",
    "* make sure to include default values for the optional parameters: for `year`, the default value should be the year that has the most records (i.e., rows) in the DataFrame; for `energy_above`, it should be the median of the `energy` values; and for `genre`, it should be the genre that appears most often in the lists of genres\n",
    "* You can [check the data set specifications](https://www.kaggle.com/datasets/paradisejoy/top-hits-spotify-from-20002019) and use pandas to determine appropriate accepted and default values for all three input categories before writing the function\n",
    "* for all three input parameters, implement `assert` statements to test whether arguments (as provided by the user when calling the function) are correct, and include an assertion error\n",
    "\n",
    "**Output specifications for `next_on_my_playlist()`:**\n",
    "* `next_on_my_playlist()` returns two variables: artist *and* title of a song that meets all three input criteria;\n",
    "* If *several* songs meet the criteria, randomly choose one;\n",
    "* If *no* songs meet the criteria, return [\"Mississippi Goddamn\" by Nina Simone](https://www.youtube.com/watch?v=LJ25-U3jNWM);\n",
    "* Include a docstring;\n",
    "* Run the cell below to assert that your function works as expected."
   ]
  },
  {
   "cell_type": "code",
   "execution_count": null,
   "metadata": {},
   "outputs": [],
   "source": [
    "# import modules we will use\n",
    "import os\n",
    "import re\n",
    "import random\n",
    "from collections import Counter"
   ]
  },
  {
   "cell_type": "code",
   "execution_count": null,
   "metadata": {},
   "outputs": [],
   "source": [
    "# define subfolder\n",
    "subfolder = \"./data/songs/\""
   ]
  },
  {
   "cell_type": "code",
   "execution_count": null,
   "metadata": {},
   "outputs": [],
   "source": [
    "# get a list of files to import\n",
    "files_to_import = os.listdir(subfolder)\n",
    "files_to_import"
   ]
  },
  {
   "cell_type": "code",
   "execution_count": null,
   "metadata": {},
   "outputs": [],
   "source": [
    "# read in into a list,\n",
    "# looping over all filenames in the subfolder,\n",
    "# extracting year from filename with regex\n",
    "# and adding it to each DataFrame as a column;\n",
    "\n",
    "# initiate empty list\n",
    "list_of_dataframes = []\n",
    "\n",
    "# loop over files\n",
    "for filename in files_to_import:\n",
    "    df_oneyear = pd.read_csv(subfolder + filename)\n",
    "    year = re.findall(r\"\\d+\", filename)[0]\n",
    "    df_oneyear[\"year\"] = int(year) # make sure year is an int!\n",
    "    list_of_dataframes.append(df_oneyear)"
   ]
  },
  {
   "cell_type": "code",
   "execution_count": null,
   "metadata": {},
   "outputs": [],
   "source": [
    "# concatenate into one single DataFrame\n",
    "df = pd.concat(list_of_dataframes)"
   ]
  },
  {
   "cell_type": "code",
   "execution_count": null,
   "metadata": {},
   "outputs": [],
   "source": [
    "df.year.max()"
   ]
  },
  {
   "cell_type": "code",
   "execution_count": null,
   "metadata": {},
   "outputs": [],
   "source": [
    "# year with most records (for default value)\n",
    "df.year.value_counts()\n",
    "# default year will be 2012, which appears 115 times"
   ]
  },
  {
   "cell_type": "code",
   "execution_count": null,
   "metadata": {},
   "outputs": [],
   "source": [
    "# median of energy (for default value)\n",
    "df.energy.median()\n",
    "# default energy will be 0.736"
   ]
  },
  {
   "cell_type": "code",
   "execution_count": null,
   "metadata": {},
   "outputs": [],
   "source": [
    "df[\"genres\"] = df.genre.apply(lambda x: x.split(\", \"))\n",
    "df[\"genres\"]"
   ]
  },
  {
   "cell_type": "code",
   "execution_count": null,
   "metadata": {},
   "outputs": [],
   "source": [
    "# df[\"genres\"] is a list of lists. To de-nest it:\n",
    "denested_genres = [genre for sublist in df[\"genres\"] for genre in sublist]\n",
    "denested_genres"
   ]
  },
  {
   "cell_type": "code",
   "execution_count": null,
   "metadata": {},
   "outputs": [],
   "source": [
    "# We can use Counter (imported from collections)\n",
    "# to count the occurences\n",
    "Counter(denested_genres)# default genre will be pop, which appears 1633 times\n",
    "# there are some missing values (\"set()\") but we will ignore them for now"
   ]
  },
  {
   "cell_type": "code",
   "execution_count": null,
   "metadata": {},
   "outputs": [],
   "source": [
    "# writing our function:\n",
    "\n",
    "def next_on_my_playlist(\n",
    "        data,\n",
    "        year=2012,\n",
    "        energy=0.736,\n",
    "        genre=\"pop\"):\n",
    "    '''\n",
    "    takes a pandas DataFrame containing the spotify data set as input, \n",
    "    with three optional parameters (year, energy, genre),\n",
    "    and returns the artist and title of a randomly picked\n",
    "    song that meets all three criteria;\n",
    "    if no song meets the provided criteria,\n",
    "    returns Nina Simone's \"Mississippi Goddamn\".\n",
    "    allowed values:\n",
    "        year: must be between 1998-2020;\n",
    "        energy: must be between 0 and 1;\n",
    "        genre: must be one of the following:\n",
    "            \"pop\",\n",
    "            \"latin\",\n",
    "            \"rock\",\n",
    "            \"R&B\",\n",
    "            \"Folk/Acoustic\",\n",
    "            \"hip hop\",\n",
    "            \"Dance/Electronic\",\n",
    "            \"metal\",\n",
    "            \"easy listening\",\n",
    "            \"World/Traditional\",\n",
    "            \"country\",\n",
    "            \"classical\",\n",
    "            \"blues\",\n",
    "            \"jazz\";\n",
    "    '''\n",
    "\n",
    "    # define allowed genres\n",
    "    allowed_genres = [\n",
    "        \"pop\",\n",
    "        \"latin\",\n",
    "        \"rock\",\n",
    "        \"R&B\",\n",
    "        \"Folk/Acoustic\",\n",
    "        \"hip hop\",\n",
    "        \"Dance/Electronic\",\n",
    "        \"metal\",\n",
    "        \"easy listening\",\n",
    "        \"World/Traditional\",\n",
    "        \"country\",\n",
    "        \"classical\",\n",
    "        \"blues\",\n",
    "        \"jazz\"\n",
    "    ]\n",
    "    \n",
    "    assert year in range(1998,2021), \"Year must be in range 1998-2021!\"\n",
    "    assert (energy >= 0) and (energy <= 1), \"Energy must be between 0 and 1!\"\n",
    "    assert genre in allowed_genres, \"Genre is not in list of allowed genres!\" \n",
    "\n",
    "    # copy before modifying!    \n",
    "    songs = data.copy()\n",
    "\n",
    "    # first, filter by genre (does the .genres list for each record\n",
    "    # contain the genre argument?)\n",
    "    songs = songs[songs.genres.apply(lambda x: genre in x)].copy()\n",
    "\n",
    "    # filter by year and energy threshold\n",
    "    songs = songs[\n",
    "        (songs[\"year\"]==year) & (songs[\"energy\"]>energy)\n",
    "    ].copy()\n",
    "\n",
    "    try: # try to choose a random song from \"songs\" df\n",
    "        # randomly choose one index of songs\n",
    "        random_index = int(random.choice(songs.index)) # type conversion to int \n",
    "        # so we can use this number as index again:\n",
    "        record = songs.loc[random_index]\n",
    "        artist = record.artist\n",
    "        title = record.song\n",
    "    except: # if this didn't work (because no criteria were met, and the \"songs\" df is empty\n",
    "        artist = \"Nina Simone\"\n",
    "        title = \"Mississippi Goddamn\"\n",
    "\n",
    "    return artist, title\n"
   ]
  },
  {
   "cell_type": "code",
   "execution_count": null,
   "metadata": {},
   "outputs": [],
   "source": [
    "# trying it out:\n",
    "# (running this cell several times yields different results,\n",
    "# due to the random choice of songs)\n",
    "my_year = 2017\n",
    "for _ in range(5):\n",
    "    artist, title = next_on_my_playlist(data=df, year=my_year)\n",
    "    print(f\"next on my playlist: {artist}: {title}\")"
   ]
  },
  {
   "cell_type": "code",
   "execution_count": null,
   "metadata": {},
   "outputs": [],
   "source": [
    "# run assert statements to check that function is correctly implemented\n",
    "assert next_on_my_playlist(data=df, genre = \"blues\", year=2003, energy = 0.1) == ('The White Stripes', 'Seven Nation Army') \n",
    "assert next_on_my_playlist(data=df, genre = \"R&B\", year=2003, energy = 0.93) == ('Sugababes', 'Hole In The Head')\n",
    "assert next_on_my_playlist(data=df, genre = \"blues\", year=2014, energy = 1) == ('Nina Simone', 'Mississippi Goddamn')"
   ]
  }
 ],
 "metadata": {
  "kernelspec": {
   "display_name": "idsp25",
   "language": "python",
   "name": "python3"
  },
  "language_info": {
   "codemirror_mode": {
    "name": "ipython",
    "version": 3
   },
   "file_extension": ".py",
   "mimetype": "text/x-python",
   "name": "python",
   "nbconvert_exporter": "python",
   "pygments_lexer": "ipython3",
   "version": "3.12.11"
  },
  "orig_nbformat": 4
 },
 "nbformat": 4,
 "nbformat_minor": 2
}
