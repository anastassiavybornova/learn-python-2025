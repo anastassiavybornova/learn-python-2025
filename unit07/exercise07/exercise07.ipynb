{
 "cells": [
  {
   "cell_type": "markdown",
   "metadata": {},
   "source": [
    "**Very first step: import the modules and packages used in this notebook**"
   ]
  },
  {
   "cell_type": "code",
   "execution_count": null,
   "metadata": {},
   "outputs": [],
   "source": [
    "# import pandas under the alias \"pd\""
   ]
  },
  {
   "cell_type": "markdown",
   "metadata": {},
   "source": [
    "# Python Crash Course - Exercise 07\n",
    "\n",
    "Topics covered:\n",
    "* list comprehensions\n",
    "* pandas\n",
    "\n",
    "Tasks:\n",
    "* Task 1: List Comprehension\n",
    "* Task 2: Crude Oil Exports (with pandas)\n",
    "* Task 3: Greatest Hits (with pandas)"
   ]
  },
  {
   "cell_type": "markdown",
   "metadata": {},
   "source": [
    "# Task 2: Crude Oil Exports\n",
    "\n",
    "Together with this notebook, you are provided the file `.data/oil.csv`, with data provided by [UNdata](http://data.un.org/Explorer.aspx?d=EDATA&f=cmID%3aCR). It contains data on crude oil exports across all countries. For each of the subtasks below, you will find instructions in the code cells. Each of the code cell instructions can be solved by **1-2 lines of code**!\n",
    "\n",
    "* Task 1a: Read in & explore the data\n",
    "* Task 1b: Clean the data\n",
    "* Task 1c: Access parts of the data\n",
    "* Task 1d: Zoom in on a subset & explore the data\n",
    "* Task 1e: Write your manipulated data set to a file"
   ]
  },
  {
   "cell_type": "markdown",
   "metadata": {},
   "source": [
    "## Task 2a: Read in and explore the data"
   ]
  },
  {
   "cell_type": "code",
   "execution_count": null,
   "metadata": {},
   "outputs": [],
   "source": [
    "# read in with pandas"
   ]
  },
  {
   "cell_type": "code",
   "execution_count": null,
   "metadata": {},
   "outputs": [],
   "source": [
    "# display the first 10 rows"
   ]
  },
  {
   "cell_type": "code",
   "execution_count": null,
   "metadata": {},
   "outputs": [],
   "source": [
    "# display the last 8 rows"
   ]
  },
  {
   "cell_type": "code",
   "execution_count": null,
   "metadata": {},
   "outputs": [],
   "source": [
    "# display the names of the columns"
   ]
  },
  {
   "cell_type": "code",
   "execution_count": null,
   "metadata": {},
   "outputs": [],
   "source": [
    "# display the data types in the columns"
   ]
  },
  {
   "cell_type": "code",
   "execution_count": null,
   "metadata": {},
   "outputs": [],
   "source": [
    "# display the row labels (the index)"
   ]
  },
  {
   "cell_type": "code",
   "execution_count": null,
   "metadata": {},
   "outputs": [],
   "source": [
    "# how many rows does the data set have?"
   ]
  },
  {
   "cell_type": "code",
   "execution_count": null,
   "metadata": {},
   "outputs": [],
   "source": [
    "# display the summary statistics for this dataset"
   ]
  },
  {
   "cell_type": "markdown",
   "metadata": {},
   "source": [
    "## Task 2b: Clean the data \n",
    "In this task, we will remove not needed columns, and all rows where we have missing values. Then, we will convert some of the columns into a different data type."
   ]
  },
  {
   "cell_type": "code",
   "execution_count": null,
   "metadata": {},
   "outputs": [],
   "source": [
    "# remove the columns \"Quantity Footnotes\" and \"Unit\""
   ]
  },
  {
   "cell_type": "code",
   "execution_count": null,
   "metadata": {},
   "outputs": [],
   "source": [
    "# remove rows (if any) where \"Country or Area\" is not availabe, \n",
    "# using boolean indexing with \".notna()\""
   ]
  },
  {
   "cell_type": "code",
   "execution_count": null,
   "metadata": {},
   "outputs": [],
   "source": [
    "# remove rows (if any) where \"Year\" is missing "
   ]
  },
  {
   "cell_type": "code",
   "execution_count": null,
   "metadata": {},
   "outputs": [],
   "source": [
    "# remove rows (if any) where \"Quantity\" is missing"
   ]
  },
  {
   "cell_type": "code",
   "execution_count": null,
   "metadata": {},
   "outputs": [],
   "source": [
    "# check whether all the rows of \"Commodity - Transaction\" contain the same value, i.e.,\n",
    "# the string value 'Conventional crude oil - exports' "
   ]
  },
  {
   "cell_type": "code",
   "execution_count": null,
   "metadata": {},
   "outputs": [],
   "source": [
    "# how many rows do we have in our data set now?"
   ]
  },
  {
   "cell_type": "code",
   "execution_count": null,
   "metadata": {},
   "outputs": [],
   "source": [
    "# change the datatype of the \"Year\" column to integer"
   ]
  },
  {
   "cell_type": "markdown",
   "metadata": {},
   "source": [
    "## Task 2c: Access parts of the data"
   ]
  },
  {
   "cell_type": "code",
   "execution_count": null,
   "metadata": {},
   "outputs": [],
   "source": [
    "# display only the \"Country or Area\" column"
   ]
  },
  {
   "cell_type": "code",
   "execution_count": null,
   "metadata": {},
   "outputs": [],
   "source": [
    "# display only the data from the first row of the data set"
   ]
  },
  {
   "cell_type": "code",
   "execution_count": null,
   "metadata": {},
   "outputs": [],
   "source": [
    "# display the part of the dataset where \"Country or Area\" is equal to \"Costa Rica\""
   ]
  },
  {
   "cell_type": "code",
   "execution_count": null,
   "metadata": {},
   "outputs": [],
   "source": [
    "# display the part of the data set that contains data for the year 2010"
   ]
  },
  {
   "cell_type": "code",
   "execution_count": null,
   "metadata": {},
   "outputs": [],
   "source": [
    "# display the part of the data set that contains quantities over 200000 \n",
    "# (two hundred thousand) (in thousand metric tons, unit of the \"Quantity\" column); \n",
    "# who are the big exporters?"
   ]
  },
  {
   "cell_type": "code",
   "execution_count": null,
   "metadata": {},
   "outputs": [],
   "source": [
    "# display the row in the data set that shows how much oil \n",
    "# (in thousand metric tons, unit of the \"Quantity\" column)\n",
    "# Denmark exported in 2020 "
   ]
  },
  {
   "cell_type": "code",
   "execution_count": null,
   "metadata": {},
   "outputs": [],
   "source": [
    "# display the part of the data set that shows export quantities over 30 000 \n",
    "# (thirty thousand) for the year 1990\n",
    "# (in thousand metric tons, unit of the \"Quantity\" column)"
   ]
  },
  {
   "cell_type": "code",
   "execution_count": null,
   "metadata": {},
   "outputs": [],
   "source": [
    "# Which countries did not export any oil in 2017?\n",
    "# (display the subset of the dataframe) "
   ]
  },
  {
   "cell_type": "markdown",
   "metadata": {},
   "source": [
    "## Task 2d: Zoom in on a subset & explore the data\n",
    "\n",
    "From now on, we will work with only a **subset** of the data set, looking only at the **most recent year** for which data is availabe. Make sure that you create a copy of the dataframe that you used until now, using the `.copy()` method, so that our manipulations of the subset data frame will not affect the original data frame."
   ]
  },
  {
   "cell_type": "code",
   "execution_count": null,
   "metadata": {},
   "outputs": [],
   "source": [
    "# copy the part of the data set for the MOST RECENT year into a separate data frame \n",
    "# called oilXXXX (XXXX standing for the most recent year)"
   ]
  },
  {
   "cell_type": "code",
   "execution_count": null,
   "metadata": {},
   "outputs": [],
   "source": [
    "# what is the TOTAL quantity of exported oil? (summed over all countries)\n",
    "# save the value to a variable called total_exports"
   ]
  },
  {
   "cell_type": "code",
   "execution_count": null,
   "metadata": {},
   "outputs": [],
   "source": [
    "# sort the rows by descending value of \"Quantity\" \n",
    "# (i.e. the first row should contain the biggest exporter, etc.)\n",
    "# make sure that you don't just *display* the sorted dataframe, but actually \n",
    "# *change* the dataframe into a sorted-by-quantity one"
   ]
  },
  {
   "cell_type": "code",
   "execution_count": null,
   "metadata": {},
   "outputs": [],
   "source": [
    "# add a new column called \"perc\" to the dataframe; in this column,\n",
    "# compute, for each country, what percentage of total_exports \n",
    "# their exported quantity translates to."
   ]
  },
  {
   "cell_type": "code",
   "execution_count": null,
   "metadata": {},
   "outputs": [],
   "source": [
    "# display the first 10 rows one more time: \n",
    "# now you should see what are the biggest 10 exporters in the most recent year?"
   ]
  },
  {
   "cell_type": "code",
   "execution_count": null,
   "metadata": {},
   "outputs": [],
   "source": [
    "# for a country of your choice that is not on the \"top 10\", \n",
    "# find out what is their percentage of total exports?\n",
    "# (just display the row for that country)"
   ]
  },
  {
   "cell_type": "code",
   "execution_count": null,
   "metadata": {},
   "outputs": [],
   "source": [
    "# find out which country exported the most, and which country exported the least;\n",
    "# what is the ratio (proportion) of the biggest vs. smallest export quantity?"
   ]
  },
  {
   "cell_type": "markdown",
   "metadata": {},
   "source": [
    "## Task 2e: Write your manipulated data set to a file\n",
    "\n",
    "Write the data set from the previous file (with data only on the most recent year; and with the added column containig percentages) to a file."
   ]
  },
  {
   "cell_type": "code",
   "execution_count": null,
   "metadata": {},
   "outputs": [],
   "source": [
    "# write to csv with the help of pandas \n",
    "# (you don't need to write the row labels (index) to the file)"
   ]
  },
  {
   "cell_type": "code",
   "execution_count": null,
   "metadata": {},
   "outputs": [],
   "source": [
    "# read back in into a variable called \"df\" & \n",
    "# display the first 10 rows to check"
   ]
  },
  {
   "cell_type": "markdown",
   "metadata": {},
   "source": [
    "# Task 3 - Greatest Hits\n",
    "\n",
    "We will be working with a data set of popular Spotify songs 1998-2020 (taken from [Kaggle](https://www.kaggle.com/datasets/paradisejoy/top-hits-spotify-from-20002019)). We have one .csv file for each year (as indicated in the file name).\n",
    "\n",
    "Your task is to:\n",
    "1. Read in all files as pandas data frames, and add a `year` column that contains the year (according to the file name);\n",
    "2. concatenate the yearly data sets into **one single pandas DataFrame with the variable name `df`**;\n",
    "3. The \"genre\" column contains 0 to several genres for each record - add a \"genres\" column that contains all genres for that record as list of strings;\n",
    "4. Now, write the function `next_on_my_playlist()` that takes your modified dataframe as input and will suggest to you which song you should listen to next.\n",
    "\n",
    "***\n",
    "\n",
    "**Input specifications for `next_on_my_playlist()`:**\n",
    "* `next_on_my_playlist()` takes the *required* input parameter `data` (here, you will pass the single pandas DataFrame as argument); and the *optional* input parameters `year`, `energy_above`, `genre`; \n",
    "* `year`and `genre` are categorical variables (i.e. there is a limited set of possible values);\n",
    "* `energy_above` is a numerical variable (i.e. an interval)\n",
    "* make sure to include default values for the optional parameters: for `year`, the default value should be the year that has the most records (i.e., rows) in the DataFrame; for `energy_above`, it should be the median of the `energy` values; and for `genre`, it should be the genre that appears most often in the lists of genres\n",
    "* You can [check the data set specifications](https://www.kaggle.com/datasets/paradisejoy/top-hits-spotify-from-20002019) and use pandas to determine appropriate accepted and default values for all three input categories before writing the function\n",
    "* for all three input parameters, implement `assert` statements to test whether arguments (as provided by the user when calling the function) are correct, and include an assertion error\n",
    "\n",
    "**Output specifications for `next_on_my_playlist()`:**\n",
    "* `next_on_my_playlist()` returns two variables: artist *and* title of a song that meets all three input criteria;\n",
    "* If *several* songs meet the criteria, randomly choose one;\n",
    "* If *no* songs meet the criteria, return [\"Mississippi Goddamn\" by Nina Simone](https://www.youtube.com/watch?v=LJ25-U3jNWM);\n",
    "* Include a docstring;\n",
    "* Run the cell below to assert that your function works as expected."
   ]
  },
  {
   "cell_type": "code",
   "execution_count": null,
   "metadata": {},
   "outputs": [],
   "source": [
    "# YOUR CODE HERE"
   ]
  },
  {
   "cell_type": "code",
   "execution_count": null,
   "metadata": {},
   "outputs": [],
   "source": [
    "# run assert statements to check that function is correctly implemented\n",
    "assert next_on_my_playlist(data=df, genre = \"blues\", year=2003, energy = 0.1) == ('The White Stripes', 'Seven Nation Army') \n",
    "assert next_on_my_playlist(data=df, genre = \"R&B\", year=2003, energy = 0.93) == ('Sugababes', 'Hole In The Head')\n",
    "assert next_on_my_playlist(data=df, genre = \"blues\", year=2014, energy = 1) == ('Nina Simone', 'Mississippi Goddamn')"
   ]
  },
  {
   "cell_type": "markdown",
   "metadata": {},
   "source": []
  }
 ],
 "metadata": {
  "kernelspec": {
   "display_name": "base",
   "language": "python",
   "name": "python3"
  },
  "language_info": {
   "codemirror_mode": {
    "name": "ipython",
    "version": 3
   },
   "file_extension": ".py",
   "mimetype": "text/x-python",
   "name": "python",
   "nbconvert_exporter": "python",
   "pygments_lexer": "ipython3",
   "version": "3.11.4"
  },
  "orig_nbformat": 4
 },
 "nbformat": 4,
 "nbformat_minor": 2
}
