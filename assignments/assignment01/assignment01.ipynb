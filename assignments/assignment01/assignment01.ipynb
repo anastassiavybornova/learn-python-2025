{
 "cells": [
  {
   "cell_type": "markdown",
   "metadata": {},
   "source": [
    "# Assignment 01\n",
    "\n",
    "for the course Introduction to Data Science and Programming (Autumn 2025) at ITU\n",
    "\n",
    "**Due: September 11, 2025, at 23:59** (hand in through [learnIT](https://learnit.itu.dk/course/view.php?id=3024641)!)\n",
    "\n",
    "Before you turn this assignment in, make sure everything runs as expected. (Go to `Restart and run all` - should not throw any assertion errors.) \n",
    "\n",
    "Make sure you fill in any place that says `YOUR CODE HERE` or \"YOUR ANSWER HERE\", as well as your name and ITU email address below:"
   ]
  },
  {
   "cell_type": "code",
   "execution_count": null,
   "metadata": {},
   "outputs": [],
   "source": [
    "NAME = \"\"\n",
    "ITU_MAIL = \"\" # xxxx@itu.dk"
   ]
  },
  {
   "cell_type": "markdown",
   "metadata": {
    "deletable": false,
    "editable": false,
    "nbgrader": {
     "cell_type": "markdown",
     "checksum": "a187e0739a25a7fda5cea9314cf8571f",
     "grade": false,
     "grade_id": "cell-15a74d8647aac4a3",
     "locked": true,
     "schema_version": 3,
     "solution": false,
     "task": false
    },
    "tags": []
   },
   "source": [
    "***\n",
    "**Mandatory Task 1:** Write the function `sum_list` that takes a list as input and returns the sum of all elements in the list as ouput. Do **not** use Python's built-in `sum()` function for this task; the task is to write this function from scratch. It is fine if your function throws an error if anything else than a list of integers is entered as input."
   ]
  },
  {
   "cell_type": "code",
   "execution_count": null,
   "metadata": {
    "deletable": false,
    "nbgrader": {
     "cell_type": "code",
     "checksum": "c2aef84c6f950c4f31e5db81a2d0fa8e",
     "grade": false,
     "grade_id": "cell-c3b8fc79af83886c",
     "locked": false,
     "schema_version": 3,
     "solution": true,
     "task": false
    },
    "tags": []
   },
   "outputs": [],
   "source": [
    "# Solve Task 1\n",
    "def sum_list(my_list):\n",
    "    '''\n",
    "    your docstring here\n",
    "    '''\n",
    "    # YOUR CODE HERE\n",
    "    raise NotImplementedError()"
   ]
  },
  {
   "cell_type": "markdown",
   "metadata": {
    "deletable": false,
    "editable": false,
    "nbgrader": {
     "cell_type": "markdown",
     "checksum": "c7bf73d72759e03dbdd5841eee2d14f9",
     "grade": false,
     "grade_id": "cell-b5c7fa8706adcfbd",
     "locked": true,
     "schema_version": 3,
     "solution": false,
     "task": false
    },
    "tags": []
   },
   "source": [
    "Make sure your function passes all the tests: running the cell below should not throw any errors! If it does, it means you need to adjust your function. You can run this cell as often as you need to, to make sure your function works."
   ]
  },
  {
   "cell_type": "code",
   "execution_count": null,
   "metadata": {
    "deletable": false,
    "editable": false,
    "nbgrader": {
     "cell_type": "code",
     "checksum": "ec9f8e4d549457e201a1eb655eab03ed",
     "grade": true,
     "grade_id": "cell-35af3afdbf1678c3",
     "locked": true,
     "points": 1,
     "schema_version": 3,
     "solution": false,
     "task": false
    },
    "tags": []
   },
   "outputs": [],
   "source": [
    "# Check if you solved Task 1 correctly by running this cell\n",
    "assert sum_list([1,2,3])==6\n",
    "assert sum_list([9])==9\n",
    "assert sum_list([0,0,-1,-10])==-11\n"
   ]
  },
  {
   "cell_type": "markdown",
   "metadata": {
    "deletable": false,
    "editable": false,
    "nbgrader": {
     "cell_type": "markdown",
     "checksum": "8540a47e56e8abf92bd959d0b7e2d847",
     "grade": false,
     "grade_id": "cell-08ce6100e271bdd1",
     "locked": true,
     "schema_version": 3,
     "solution": false,
     "task": false
    },
    "tags": []
   },
   "source": [
    "***\n",
    "**Mandatory Task 2:** Write the function `is_odd` that takes an integer as input and returns either `True` (if the input integer is odd), `False` (if the input integer is even). It is fine if your function throws an error if anything else than an integer is entered as input."
   ]
  },
  {
   "cell_type": "code",
   "execution_count": null,
   "metadata": {
    "deletable": false,
    "nbgrader": {
     "cell_type": "code",
     "checksum": "fcd2fb9fdd9063f1f43fb7cec6108674",
     "grade": false,
     "grade_id": "cell-a3ec09c0ee06a3e1",
     "locked": false,
     "schema_version": 3,
     "solution": true,
     "task": false
    },
    "tags": []
   },
   "outputs": [],
   "source": [
    "# Solve Task 2\n",
    "def is_even(n):\n",
    "    '''\n",
    "    your docstring here\n",
    "    '''\n",
    "    # YOUR CODE HERE\n",
    "    raise NotImplementedError()"
   ]
  },
  {
   "cell_type": "code",
   "execution_count": null,
   "metadata": {
    "deletable": false,
    "editable": false,
    "nbgrader": {
     "cell_type": "code",
     "checksum": "90818c7572accd9c852973e38b6bab4d",
     "grade": true,
     "grade_id": "cell-7905e96f23995be4",
     "locked": true,
     "points": 1,
     "schema_version": 3,
     "solution": false,
     "task": false
    },
    "tags": []
   },
   "outputs": [],
   "source": [
    "# Check if you solved Task 2 correctly\n",
    "\n",
    "# we correctly detect odd numbers\n",
    "assert is_odd(1)==True\n",
    "assert is_odd(7659)==True\n",
    "assert is_odd(-3)==True\n",
    "\n",
    "# we correctly detect even numbers\n",
    "assert is_odd(2)==False\n",
    "assert is_odd(16)==False\n",
    "assert is_odd(0)==False"
   ]
  },
  {
   "cell_type": "markdown",
   "metadata": {
    "deletable": false,
    "editable": false,
    "nbgrader": {
     "cell_type": "markdown",
     "checksum": "6e67bf8d08bca1c8be8623412b671e92",
     "grade": false,
     "grade_id": "cell-383e5a83f3ee2160",
     "locked": true,
     "schema_version": 3,
     "solution": false,
     "task": false
    },
    "tags": []
   },
   "source": [
    "***\n",
    "**Mandatory Task 3:** Write the function `compute_factorial` that takes an integer $n>=1$ as input and returns the factorial $n!$ as output. Do **not** use any built-in functions or modules in Python for this task. **Hint:** use a `for` loop with a `range()` to compute the factorial. "
   ]
  },
  {
   "cell_type": "code",
   "execution_count": null,
   "metadata": {
    "deletable": false,
    "nbgrader": {
     "cell_type": "code",
     "checksum": "1330be3286f28ef1d02d5fc9b75a5928",
     "grade": false,
     "grade_id": "cell-e8db086fc0ce7341",
     "locked": false,
     "schema_version": 3,
     "solution": true,
     "task": false
    },
    "tags": []
   },
   "outputs": [],
   "source": [
    "# Solve Task 3\n",
    "def compute_factorial(n):\n",
    "    '''\n",
    "    your docstring here\n",
    "    '''\n",
    "    # YOUR CODE HERE\n",
    "    raise NotImplementedError()"
   ]
  },
  {
   "cell_type": "code",
   "execution_count": null,
   "metadata": {
    "deletable": false,
    "editable": false,
    "nbgrader": {
     "cell_type": "code",
     "checksum": "e70d4cca62d7713290088c06461494e3",
     "grade": true,
     "grade_id": "cell-35c12a7e2e2818f4",
     "locked": true,
     "points": 1,
     "schema_version": 3,
     "solution": false,
     "task": false
    },
    "tags": []
   },
   "outputs": [],
   "source": [
    "# Check if you solved Task 3 correctly\n",
    "\n",
    "# Computing factorials correctly\n",
    "assert compute_factorial(1)==1\n",
    "assert compute_factorial(3)==6\n",
    "assert compute_factorial(10)==3628800"
   ]
  },
  {
   "cell_type": "markdown",
   "metadata": {
    "deletable": false,
    "editable": false,
    "nbgrader": {
     "cell_type": "markdown",
     "checksum": "6578dea607732ad9593cd211defcdfea",
     "grade": false,
     "grade_id": "cell-614f0f1ed48b2e94",
     "locked": true,
     "schema_version": 3,
     "solution": false,
     "task": false
    },
    "tags": []
   },
   "source": [
    "***\n",
    "**Mandatory Task 4** Write a function `find_largest_factorial_below` that takes a positive number $n$ (`int` or `float`) as input and returns the **largest possible** number $a$ for which $a! \\leq n$. In other words, this function returns the number $a$ whose factorial $a!$ gets as close as possible to $n$ without growing larger than $n$. **Hint:** Use a `while` loop with within your function."
   ]
  },
  {
   "cell_type": "code",
   "execution_count": null,
   "metadata": {
    "deletable": false,
    "nbgrader": {
     "cell_type": "code",
     "checksum": "ead874349ae686d9abe11b32bd11cf10",
     "grade": false,
     "grade_id": "cell-8c5e7d0a48ac173b",
     "locked": false,
     "schema_version": 3,
     "solution": true,
     "task": false
    },
    "tags": []
   },
   "outputs": [],
   "source": [
    "# Solve Task 4\n",
    "def find_largest_factorial_below(n):\n",
    "    '''\n",
    "    your docstring here\n",
    "    '''\n",
    "    # YOUR CODE HERE\n",
    "    raise NotImplementedError()"
   ]
  },
  {
   "cell_type": "code",
   "execution_count": null,
   "metadata": {
    "deletable": false,
    "editable": false,
    "nbgrader": {
     "cell_type": "code",
     "checksum": "ec8e5d67c7403dc100929fe9b0d8c0c4",
     "grade": true,
     "grade_id": "cell-d583b2ef04bcd208",
     "locked": true,
     "points": 1,
     "schema_version": 3,
     "solution": false,
     "task": false
    },
    "tags": []
   },
   "outputs": [],
   "source": [
    "# Check if you solved Task 4 correctly\n",
    "\n",
    "# For numbers between 0 and 2, it should return 1\n",
    "assert find_largest_factorial_below(1.5)==1\n",
    "\n",
    "# For numbers between 6 and 24, it should return 3\n",
    "assert find_largest_factorial_below(17)==3\n",
    "\n",
    "# For 24, it should return 4\n",
    "assert find_largest_factorial_below(24)==4"
   ]
  },
  {
   "cell_type": "markdown",
   "metadata": {},
   "source": [
    "***\n",
    "\n",
    "**Mandatory Task 5** Write a function `count_unique_characters` that\n",
    "* takes as input a string,\n",
    "* returns as output a dictionary of key-value pairs where keys are unique characters of the input string, and values are counts (number of times this character appears in the input string). \n",
    "\n",
    "For example, for the input string `\"hello hello!\"` the function should return the following dictionary:\n",
    "```python\n",
    "{\n",
    "    \"h\": 2,\n",
    "    \"e\": 2,\n",
    "    \"l\": 4,\n",
    "    \"o\": 2,\n",
    "    \" \": 1,\n",
    "    \"!\": 1\n",
    "}\n",
    "``` "
   ]
  },
  {
   "cell_type": "code",
   "execution_count": null,
   "metadata": {},
   "outputs": [],
   "source": [
    "# Solve Task 5\n",
    "def find_unique_characters(mystring):\n",
    "    '''\n",
    "    your docstring here\n",
    "    '''\n",
    "    # YOUR CODE HERE\n",
    "    raise NotImplementedError()"
   ]
  },
  {
   "cell_type": "code",
   "execution_count": null,
   "metadata": {},
   "outputs": [],
   "source": [
    "# Check if you solved Task 5 correctly\n",
    "\n",
    "assert find_unique_characters(\"hello hello!\") == {\n",
    "    \"h\": 2,\n",
    "    \"e\": 2,\n",
    "    \"l\": 4,\n",
    "    \"o\": 2,\n",
    "    \" \": 1,\n",
    "    \"!\": 1\n",
    "}\n",
    "\n",
    "assert find_unique_characters(\"1 stitch in time...\") == {\n",
    "    'i': 3,\n",
    "    's': 1,\n",
    "    'e': 1,\n",
    "    'n': 1,\n",
    "    '.': 3,\n",
    "    '1': 1,\n",
    "    't': 3,\n",
    "    ' ': 3,\n",
    "    'c': 1,\n",
    "    'h': 1,\n",
    "    'm': 1\n",
    "}"
   ]
  },
  {
   "cell_type": "markdown",
   "metadata": {
    "deletable": false,
    "editable": false,
    "nbgrader": {
     "cell_type": "markdown",
     "checksum": "60f2aa76d820c8890c91f259de0068d6",
     "grade": false,
     "grade_id": "cell-75d25b41503e1f98",
     "locked": true,
     "schema_version": 3,
     "solution": false,
     "task": false
    },
    "tags": []
   },
   "source": [
    "***\n",
    "\n",
    "**Mandatory Task 6:** **In your own words**, explain line by line what happens in the code below.\n",
    "\n",
    "```python\n",
    "def should_i_bike(rain):\n",
    "    if rain:\n",
    "        return False\n",
    "    else:\n",
    "        return True\n",
    "\n",
    "def should_i_bike_fast(late):\n",
    "    if late:\n",
    "        return True\n",
    "    else:\n",
    "        return False\n",
    "\n",
    "rain_today = False\n",
    "late_today = True\n",
    "\n",
    "if should_i_bike(rain_today):\n",
    "    if not should_i_bike_fast(late_today):\n",
    "        print(\"bike peacefully\")    \n",
    "    else:\n",
    "        print(\"bike fast\")\n",
    "else:\n",
    "    print(\"take the metro\")\n",
    "```"
   ]
  },
  {
   "cell_type": "markdown",
   "metadata": {
    "deletable": false,
    "nbgrader": {
     "cell_type": "markdown",
     "checksum": "555fe0ae52f269675b4fdadb140c2602",
     "grade": true,
     "grade_id": "cell-7e11d193408739d6",
     "locked": false,
     "points": 1,
     "schema_version": 3,
     "solution": true,
     "task": false
    },
    "tags": []
   },
   "source": [
    "YOUR ANSWER HERE"
   ]
  }
 ],
 "metadata": {
  "kernelspec": {
   "display_name": "Python 3",
   "language": "python",
   "name": "python3"
  },
  "language_info": {
   "codemirror_mode": {
    "name": "ipython",
    "version": 3
   },
   "file_extension": ".py",
   "mimetype": "text/x-python",
   "name": "python",
   "nbconvert_exporter": "python",
   "pygments_lexer": "ipython3",
   "version": "3.12.11"
  }
 },
 "nbformat": 4,
 "nbformat_minor": 4
}
