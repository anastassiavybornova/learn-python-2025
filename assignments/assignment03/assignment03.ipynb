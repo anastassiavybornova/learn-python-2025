{
 "cells": [
  {
   "cell_type": "markdown",
   "id": "95603809",
   "metadata": {},
   "source": [
    "# Assignment 6\n",
    "#### Due November 6th, 2025, 23:59\n",
    "\n",
    "This assignment consists of six different tasks.\n",
    "All exercises this week can and __must__ be solved purely using pandas. This also means that there is no need for any loops or recursion nor any extra imports.\n",
    "\n",
    "As part of each task description, **the actual expected output is provided**. Your task is to figure out how to get a matching result, not necesarrily in looks but in numbers. More nicely formatted prints are very much allowed.\n",
    "\n",
    "Implement your solution to each of the exercises in the code field below the exercise description.\n",
    "\n",
    "- Edit and turn in this jupyter notebook file containing your solutions to each task -- keep the same filename.\n",
    "- Make sure that we are able to run the notebook by placing our own copy of `beer.csv` and `wine.csv` inside the same folder as this notebook.\n",
    "\n",
    "# Description of the assignment\n",
    "In this week's assignment, we are going to analyze beer, spirit, and wine consumption of various countries.\n",
    "Data is adapted from a repository created by https://github.com/justmarkham.\n",
    "\n",
    "Note, data comes in two files `drinks.csv` and `wines.csv`, and contains information about how much alcohol different countries consume.\n",
    "The format looks something like this:\n",
    "\n",
    "| country | beer_servings | spirit_servings | total_litres_of_pure_alcohol | continent|\n",
    "| ---- | ---- | ---- | ---- | ---- |\n",
    "|Afghanistan |\t0 |\t0 | ztt2z^ |\tAS |\n",
    "|Albania |\t89 |\t132 | 2#tr%^ |\tEU |\n",
    "|...   |      |      |      |      |      |      |\n",
    "|Zimbabwe |\t64 |\t18 |\t7#xy8# |\tAF |\n",
    "\n",
    "\n",
    "## Assignment"
   ]
  },
  {
   "cell_type": "markdown",
   "id": "647de751",
   "metadata": {},
   "source": [
    "# Assignment 03\n",
    "\n",
    "for the course Introduction to Data Science and Programming (Autumn 2025) at ITU\n",
    "\n",
    "**Due: September 25, 2025, at 23:59** (hand in through [learnIT](https://learnit.itu.dk/course/view.php?id=3024641)!)\n",
    "\n",
    "Before you turn this assignment in, make sure everything runs as expected. (Go to `Restart and run all`.) \n",
    "\n",
    "Make sure you fill in any place that says `YOUR CODE HERE` or \"YOUR ANSWER HERE\", as well as your name and ITU email address below:"
   ]
  },
  {
   "cell_type": "code",
   "execution_count": null,
   "id": "4ba5daf4",
   "metadata": {},
   "outputs": [],
   "source": [
    "NAME = \"\"\n",
    "ITU_MAIL = \"\" # xxxx@itu.dk"
   ]
  },
  {
   "cell_type": "code",
   "execution_count": 23,
   "id": "c7a3519d",
   "metadata": {},
   "outputs": [],
   "source": [
    "# import the necessary libraries"
   ]
  },
  {
   "cell_type": "markdown",
   "id": "6f018025",
   "metadata": {},
   "source": [
    "## Task 1: Alcohol consumption statistics in `pandas`\n",
    "\n",
    "1. Load the data from `alc.csv` into a pandas DataFrame (data set adapted from [Kaggle](https://www.kaggle.com/datasets/codebreaker619/alcohol-comsumption-around-the-world?resource=download))\n",
    "2. Display the first 5 rows\n",
    "3. Display the last 7 rows\n",
    "4. Print out all column names\n",
    "5. print out the number of unique countries in the data\n",
    "6. print out all unique continents in the data\n",
    "7. *Something funky is going on when loading the data. Countries belonging to the North America continent (NA in the data) are interpreted a having a `nan` continent. This is because pandas reads NA as `nan`. To prevent this from happening:* reload the data into a pandas DataFrame, but this time using the optional parameter `na_filter` (check the pd.read_csv documentation for instructions).\n",
    "8. Drop the column `\"total_litres_pure\"`from the DataFrame\n",
    "9. Use boolean indexing to find all the countries that have (a) the same amount of beer and wine servings, AND (b) a higher-than-zero amount of spirit servings.\n",
    "10. Use `.groupby()` and `.max()` to calculate and print out which continent drinks the most beer on average (averaged over all countries for each continent).\n",
    "11. Use `.groupby()`and `.describe()` to print out summary statistics per continent (for beer_servings and spirit_servings).\n",
    "12. Use boolean indexing (or another method of your choice) to print out the name of the country that has the highest number of beer_servings *in the world*.\n",
    "13. Use the method(s)/functions of your choice to print out the name of the country with the most wine_servings *per continent*."
   ]
  },
  {
   "cell_type": "code",
   "execution_count": 22,
   "id": "1a4590a4",
   "metadata": {},
   "outputs": [],
   "source": [
    "# YOUR CODE HERE"
   ]
  },
  {
   "cell_type": "markdown",
   "id": "60b05a51",
   "metadata": {},
   "source": [
    "## Task 2: Where to go next?\n",
    "\n",
    "Let's say we had enough of all the alcohol consumption business, and we would like to choose a travel location where our most hated drink is consumed *the least*.\n",
    "\n",
    "Write a function `where_to_go(dataframe, continent, hated_drink)` that takes as input:\n",
    "* the pandas DataFrame (which we read in from `alc.csv` in Task 1), \n",
    "* a two-character continent code (one of: `['AS', 'EU', 'AF', 'NA', 'SA', 'OC']`),\n",
    "* and a drink name (one of: `beer`, `wine`, `spirit`);\n",
    "\n",
    "And returns as output:\n",
    "* the name of the country on the continent that consumes the *least* of the `hated_drink`. (if there is more than one country that fulfills these criteria, pick one at random)\n",
    "\n",
    "***\n",
    "\n",
    "**Hint:** If you're struggling to extract the country name string from the DataFrame slice: to remove axis (row) labels after boolean indexing, either `.reset_index()` or `.values[]` can come in handy (check the [pandas documentation](https://pandas.pydata.org/docs/reference/index.html#api) for details)."
   ]
  },
  {
   "cell_type": "code",
   "execution_count": 21,
   "id": "9bf9e062",
   "metadata": {},
   "outputs": [],
   "source": [
    "# YOUR CODE HERE\n",
    "def where_to_go(dataframe, continent, hated_drink):\n",
    "    raise NotImplementedError() # replace this with your own code"
   ]
  }
 ],
 "metadata": {
  "kernelspec": {
   "display_name": "idsp25",
   "language": "python",
   "name": "python3"
  },
  "language_info": {
   "codemirror_mode": {
    "name": "ipython",
    "version": 3
   },
   "file_extension": ".py",
   "mimetype": "text/x-python",
   "name": "python",
   "nbconvert_exporter": "python",
   "pygments_lexer": "ipython3",
   "version": "3.12.11"
  }
 },
 "nbformat": 4,
 "nbformat_minor": 5
}
