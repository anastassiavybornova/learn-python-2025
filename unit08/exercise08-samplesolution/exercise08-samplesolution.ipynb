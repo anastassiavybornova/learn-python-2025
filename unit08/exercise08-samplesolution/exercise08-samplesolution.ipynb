{
 "cells": [
  {
   "cell_type": "markdown",
   "id": "3dfe1bd5",
   "metadata": {},
   "source": [
    "# Python Crash Course - Exercise 08\n",
    "\n",
    "Topics covered:\n",
    "* pandas\n",
    "* binary search\n",
    "\n",
    "Tasks:\n",
    "* Task 1: Cities, Countries, Languages with pandas\n",
    "* Task 2: Implementing your own binary search algorithm"
   ]
  },
  {
   "cell_type": "code",
   "execution_count": 1,
   "id": "16748207",
   "metadata": {},
   "outputs": [],
   "source": [
    "# import modules/packages\n",
    "import pandas as pd"
   ]
  },
  {
   "cell_type": "markdown",
   "id": "34699f31",
   "metadata": {},
   "source": [
    "# Task 1: Cities, Countries, Languages with pandas\n",
    "\n",
    "For this task, we'll be working with the (Kaggle)[https://www.kaggle.com/datasets/adilshamim8/world-cities-countries-and-languages-dataset] data set \"World Cities, Countries & Languages.\"\n",
    "\n",
    "First, load the 3 csv files in the subfolder `./ccl/`. Then, with the help of the data sets, answer the following questions\n",
    "\n",
    "**Q1** Of the world's largest 100 cities (by population), how many are located in India?\n",
    "\n",
    "**Q2** What is the most spoken official language in Tanzania? How many percent of people speak it, and how many people (in absolute numbers) speak it?\n",
    "\n",
    "**Q3** What is the most spoken language in Tanzania? (including *all* languages, not just the \"official\" ones) How many percent of people speak it, and how many people (in absolute numbers) speak it?\n",
    "\n",
    "**Q4** For each language, count in how many countries it is spoken. What are the 20 languages with the highest number of countries-they-are-spoken-in?\n",
    "\n",
    "**Q5** Of all the languages spoken in only one country, which two are spoken by 100% of the population according to the data set?"
   ]
  },
  {
   "cell_type": "code",
   "execution_count": 2,
   "id": "d576ca71",
   "metadata": {},
   "outputs": [],
   "source": [
    "# YOUR CODE HERE"
   ]
  },
  {
   "cell_type": "markdown",
   "id": "259bd669",
   "metadata": {},
   "source": [
    "Reading in the 3 data sets"
   ]
  },
  {
   "cell_type": "code",
   "execution_count": 3,
   "id": "2935ab7d",
   "metadata": {},
   "outputs": [
    {
     "data": {
      "text/html": [
       "<div>\n",
       "<style scoped>\n",
       "    .dataframe tbody tr th:only-of-type {\n",
       "        vertical-align: middle;\n",
       "    }\n",
       "\n",
       "    .dataframe tbody tr th {\n",
       "        vertical-align: top;\n",
       "    }\n",
       "\n",
       "    .dataframe thead th {\n",
       "        text-align: right;\n",
       "    }\n",
       "</style>\n",
       "<table border=\"1\" class=\"dataframe\">\n",
       "  <thead>\n",
       "    <tr style=\"text-align: right;\">\n",
       "      <th></th>\n",
       "      <th>ID</th>\n",
       "      <th>Name</th>\n",
       "      <th>CountryCode</th>\n",
       "      <th>District</th>\n",
       "      <th>Population</th>\n",
       "    </tr>\n",
       "  </thead>\n",
       "  <tbody>\n",
       "    <tr>\n",
       "      <th>0</th>\n",
       "      <td>1</td>\n",
       "      <td>Kabul</td>\n",
       "      <td>AFG</td>\n",
       "      <td>Kabol</td>\n",
       "      <td>1780000</td>\n",
       "    </tr>\n",
       "    <tr>\n",
       "      <th>1</th>\n",
       "      <td>2</td>\n",
       "      <td>Qandahar</td>\n",
       "      <td>AFG</td>\n",
       "      <td>Qandahar</td>\n",
       "      <td>237500</td>\n",
       "    </tr>\n",
       "    <tr>\n",
       "      <th>2</th>\n",
       "      <td>3</td>\n",
       "      <td>Herat</td>\n",
       "      <td>AFG</td>\n",
       "      <td>Herat</td>\n",
       "      <td>186800</td>\n",
       "    </tr>\n",
       "    <tr>\n",
       "      <th>3</th>\n",
       "      <td>4</td>\n",
       "      <td>Mazar-e-Sharif</td>\n",
       "      <td>AFG</td>\n",
       "      <td>Balkh</td>\n",
       "      <td>127800</td>\n",
       "    </tr>\n",
       "    <tr>\n",
       "      <th>4</th>\n",
       "      <td>5</td>\n",
       "      <td>Amsterdam</td>\n",
       "      <td>NLD</td>\n",
       "      <td>Noord-Holland</td>\n",
       "      <td>731200</td>\n",
       "    </tr>\n",
       "  </tbody>\n",
       "</table>\n",
       "</div>"
      ],
      "text/plain": [
       "   ID            Name CountryCode       District  Population\n",
       "0   1           Kabul         AFG          Kabol     1780000\n",
       "1   2        Qandahar         AFG       Qandahar      237500\n",
       "2   3           Herat         AFG          Herat      186800\n",
       "3   4  Mazar-e-Sharif         AFG          Balkh      127800\n",
       "4   5       Amsterdam         NLD  Noord-Holland      731200"
      ]
     },
     "execution_count": 3,
     "metadata": {},
     "output_type": "execute_result"
    }
   ],
   "source": [
    "city = pd.read_csv(\"./ccl/city.csv\")\n",
    "city.head()"
   ]
  },
  {
   "cell_type": "code",
   "execution_count": 4,
   "id": "df0ab76c",
   "metadata": {},
   "outputs": [
    {
     "data": {
      "text/html": [
       "<div>\n",
       "<style scoped>\n",
       "    .dataframe tbody tr th:only-of-type {\n",
       "        vertical-align: middle;\n",
       "    }\n",
       "\n",
       "    .dataframe tbody tr th {\n",
       "        vertical-align: top;\n",
       "    }\n",
       "\n",
       "    .dataframe thead th {\n",
       "        text-align: right;\n",
       "    }\n",
       "</style>\n",
       "<table border=\"1\" class=\"dataframe\">\n",
       "  <thead>\n",
       "    <tr style=\"text-align: right;\">\n",
       "      <th></th>\n",
       "      <th>Code</th>\n",
       "      <th>Name</th>\n",
       "      <th>Continent</th>\n",
       "      <th>Region</th>\n",
       "      <th>SurfaceArea</th>\n",
       "      <th>IndepYear</th>\n",
       "      <th>Population</th>\n",
       "      <th>LifeExpectancy</th>\n",
       "      <th>GNP</th>\n",
       "      <th>GNPOld</th>\n",
       "      <th>LocalName</th>\n",
       "      <th>GovernmentForm</th>\n",
       "      <th>HeadOfState</th>\n",
       "      <th>Capital</th>\n",
       "      <th>Code2</th>\n",
       "    </tr>\n",
       "  </thead>\n",
       "  <tbody>\n",
       "    <tr>\n",
       "      <th>0</th>\n",
       "      <td>ABW</td>\n",
       "      <td>Aruba</td>\n",
       "      <td>North America</td>\n",
       "      <td>Caribbean</td>\n",
       "      <td>193.0</td>\n",
       "      <td>NaN</td>\n",
       "      <td>103000</td>\n",
       "      <td>78.4</td>\n",
       "      <td>828.0</td>\n",
       "      <td>793.0</td>\n",
       "      <td>Aruba</td>\n",
       "      <td>Nonmetropolitan Territory of The Netherlands</td>\n",
       "      <td>Beatrix</td>\n",
       "      <td>129.0</td>\n",
       "      <td>AW</td>\n",
       "    </tr>\n",
       "    <tr>\n",
       "      <th>1</th>\n",
       "      <td>AFG</td>\n",
       "      <td>Afghanistan</td>\n",
       "      <td>Asia</td>\n",
       "      <td>Southern and Central Asia</td>\n",
       "      <td>652090.0</td>\n",
       "      <td>1919.0</td>\n",
       "      <td>22720000</td>\n",
       "      <td>45.9</td>\n",
       "      <td>5976.0</td>\n",
       "      <td>NaN</td>\n",
       "      <td>Afganistan/Afqanestan</td>\n",
       "      <td>Islamic Emirate</td>\n",
       "      <td>Mohammad Omar</td>\n",
       "      <td>1.0</td>\n",
       "      <td>AF</td>\n",
       "    </tr>\n",
       "    <tr>\n",
       "      <th>2</th>\n",
       "      <td>AGO</td>\n",
       "      <td>Angola</td>\n",
       "      <td>Africa</td>\n",
       "      <td>Central Africa</td>\n",
       "      <td>1246700.0</td>\n",
       "      <td>1975.0</td>\n",
       "      <td>12878000</td>\n",
       "      <td>38.3</td>\n",
       "      <td>6648.0</td>\n",
       "      <td>7984.0</td>\n",
       "      <td>Angola</td>\n",
       "      <td>Republic</td>\n",
       "      <td>José Eduardo dos Santos</td>\n",
       "      <td>56.0</td>\n",
       "      <td>AO</td>\n",
       "    </tr>\n",
       "    <tr>\n",
       "      <th>3</th>\n",
       "      <td>AIA</td>\n",
       "      <td>Anguilla</td>\n",
       "      <td>North America</td>\n",
       "      <td>Caribbean</td>\n",
       "      <td>96.0</td>\n",
       "      <td>NaN</td>\n",
       "      <td>8000</td>\n",
       "      <td>76.1</td>\n",
       "      <td>63.2</td>\n",
       "      <td>NaN</td>\n",
       "      <td>Anguilla</td>\n",
       "      <td>Dependent Territory of the UK</td>\n",
       "      <td>Elisabeth II</td>\n",
       "      <td>62.0</td>\n",
       "      <td>AI</td>\n",
       "    </tr>\n",
       "    <tr>\n",
       "      <th>4</th>\n",
       "      <td>ALB</td>\n",
       "      <td>Albania</td>\n",
       "      <td>Europe</td>\n",
       "      <td>Southern Europe</td>\n",
       "      <td>28748.0</td>\n",
       "      <td>1912.0</td>\n",
       "      <td>3401200</td>\n",
       "      <td>71.6</td>\n",
       "      <td>3205.0</td>\n",
       "      <td>2500.0</td>\n",
       "      <td>Shqipëria</td>\n",
       "      <td>Republic</td>\n",
       "      <td>Rexhep Mejdani</td>\n",
       "      <td>34.0</td>\n",
       "      <td>AL</td>\n",
       "    </tr>\n",
       "  </tbody>\n",
       "</table>\n",
       "</div>"
      ],
      "text/plain": [
       "  Code         Name      Continent                     Region  SurfaceArea  \\\n",
       "0  ABW        Aruba  North America                  Caribbean        193.0   \n",
       "1  AFG  Afghanistan           Asia  Southern and Central Asia     652090.0   \n",
       "2  AGO       Angola         Africa             Central Africa    1246700.0   \n",
       "3  AIA     Anguilla  North America                  Caribbean         96.0   \n",
       "4  ALB      Albania         Europe            Southern Europe      28748.0   \n",
       "\n",
       "   IndepYear  Population  LifeExpectancy     GNP  GNPOld  \\\n",
       "0        NaN      103000            78.4   828.0   793.0   \n",
       "1     1919.0    22720000            45.9  5976.0     NaN   \n",
       "2     1975.0    12878000            38.3  6648.0  7984.0   \n",
       "3        NaN        8000            76.1    63.2     NaN   \n",
       "4     1912.0     3401200            71.6  3205.0  2500.0   \n",
       "\n",
       "               LocalName                                GovernmentForm  \\\n",
       "0                  Aruba  Nonmetropolitan Territory of The Netherlands   \n",
       "1  Afganistan/Afqanestan                               Islamic Emirate   \n",
       "2                 Angola                                      Republic   \n",
       "3               Anguilla                 Dependent Territory of the UK   \n",
       "4              Shqipëria                                      Republic   \n",
       "\n",
       "               HeadOfState  Capital Code2  \n",
       "0                  Beatrix    129.0    AW  \n",
       "1            Mohammad Omar      1.0    AF  \n",
       "2  José Eduardo dos Santos     56.0    AO  \n",
       "3             Elisabeth II     62.0    AI  \n",
       "4           Rexhep Mejdani     34.0    AL  "
      ]
     },
     "execution_count": 4,
     "metadata": {},
     "output_type": "execute_result"
    }
   ],
   "source": [
    "country = pd.read_csv(\"./ccl/country.csv\")\n",
    "country.head()"
   ]
  },
  {
   "cell_type": "code",
   "execution_count": 5,
   "id": "f020d74c",
   "metadata": {},
   "outputs": [
    {
     "data": {
      "text/html": [
       "<div>\n",
       "<style scoped>\n",
       "    .dataframe tbody tr th:only-of-type {\n",
       "        vertical-align: middle;\n",
       "    }\n",
       "\n",
       "    .dataframe tbody tr th {\n",
       "        vertical-align: top;\n",
       "    }\n",
       "\n",
       "    .dataframe thead th {\n",
       "        text-align: right;\n",
       "    }\n",
       "</style>\n",
       "<table border=\"1\" class=\"dataframe\">\n",
       "  <thead>\n",
       "    <tr style=\"text-align: right;\">\n",
       "      <th></th>\n",
       "      <th>CountryCode</th>\n",
       "      <th>Language</th>\n",
       "      <th>IsOfficial</th>\n",
       "      <th>Percentage</th>\n",
       "    </tr>\n",
       "  </thead>\n",
       "  <tbody>\n",
       "    <tr>\n",
       "      <th>0</th>\n",
       "      <td>ABW</td>\n",
       "      <td>Dutch</td>\n",
       "      <td>T</td>\n",
       "      <td>5.3</td>\n",
       "    </tr>\n",
       "    <tr>\n",
       "      <th>1</th>\n",
       "      <td>ABW</td>\n",
       "      <td>English</td>\n",
       "      <td>F</td>\n",
       "      <td>9.5</td>\n",
       "    </tr>\n",
       "    <tr>\n",
       "      <th>2</th>\n",
       "      <td>ABW</td>\n",
       "      <td>Papiamento</td>\n",
       "      <td>F</td>\n",
       "      <td>76.7</td>\n",
       "    </tr>\n",
       "    <tr>\n",
       "      <th>3</th>\n",
       "      <td>ABW</td>\n",
       "      <td>Spanish</td>\n",
       "      <td>F</td>\n",
       "      <td>7.4</td>\n",
       "    </tr>\n",
       "    <tr>\n",
       "      <th>4</th>\n",
       "      <td>AFG</td>\n",
       "      <td>Balochi</td>\n",
       "      <td>F</td>\n",
       "      <td>0.9</td>\n",
       "    </tr>\n",
       "  </tbody>\n",
       "</table>\n",
       "</div>"
      ],
      "text/plain": [
       "  CountryCode    Language IsOfficial  Percentage\n",
       "0         ABW       Dutch          T         5.3\n",
       "1         ABW     English          F         9.5\n",
       "2         ABW  Papiamento          F        76.7\n",
       "3         ABW     Spanish          F         7.4\n",
       "4         AFG     Balochi          F         0.9"
      ]
     },
     "execution_count": 5,
     "metadata": {},
     "output_type": "execute_result"
    }
   ],
   "source": [
    "language = pd.read_csv(\"./ccl/countrylanguage.csv\")\n",
    "language.head()"
   ]
  },
  {
   "cell_type": "markdown",
   "id": "ab019227",
   "metadata": {},
   "source": [
    "**Q1** Top 100 populated cities that are located in India:"
   ]
  },
  {
   "cell_type": "code",
   "execution_count": 6,
   "id": "11c1d7a9",
   "metadata": {},
   "outputs": [
    {
     "data": {
      "text/plain": [
       "99    IND\n",
       "Name: Code, dtype: object"
      ]
     },
     "execution_count": 6,
     "metadata": {},
     "output_type": "execute_result"
    }
   ],
   "source": [
    "# country code of India?\n",
    "country.loc[(country[\"Name\"]==\"India\"), \"Code\"]"
   ]
  },
  {
   "cell_type": "code",
   "execution_count": 7,
   "id": "9582af60",
   "metadata": {},
   "outputs": [
    {
     "data": {
      "text/plain": [
       "'IND'"
      ]
     },
     "execution_count": 7,
     "metadata": {},
     "output_type": "execute_result"
    }
   ],
   "source": [
    "# to extract only the string value of that cell: .values[]\n",
    "country.loc[(country[\"Name\"]==\"India\"), \"Code\"].values[0]"
   ]
  },
  {
   "cell_type": "code",
   "execution_count": 8,
   "id": "2b6e9759",
   "metadata": {},
   "outputs": [],
   "source": [
    "# to extract only the string value of that cell: .values[]\n",
    "india_code = country.loc[(country[\"Name\"]==\"India\"), \"Code\"].values[0]"
   ]
  },
  {
   "cell_type": "code",
   "execution_count": 9,
   "id": "a30fd4cf",
   "metadata": {},
   "outputs": [
    {
     "name": "stdout",
     "output_type": "stream",
     "text": [
      "Cities in India: 8\n"
     ]
    },
    {
     "data": {
      "text/html": [
       "<div>\n",
       "<style scoped>\n",
       "    .dataframe tbody tr th:only-of-type {\n",
       "        vertical-align: middle;\n",
       "    }\n",
       "\n",
       "    .dataframe tbody tr th {\n",
       "        vertical-align: top;\n",
       "    }\n",
       "\n",
       "    .dataframe thead th {\n",
       "        text-align: right;\n",
       "    }\n",
       "</style>\n",
       "<table border=\"1\" class=\"dataframe\">\n",
       "  <thead>\n",
       "    <tr style=\"text-align: right;\">\n",
       "      <th></th>\n",
       "      <th>ID</th>\n",
       "      <th>Name</th>\n",
       "      <th>CountryCode</th>\n",
       "      <th>District</th>\n",
       "      <th>Population</th>\n",
       "    </tr>\n",
       "  </thead>\n",
       "  <tbody>\n",
       "    <tr>\n",
       "      <th>0</th>\n",
       "      <td>1024</td>\n",
       "      <td>Mumbai (Bombay)</td>\n",
       "      <td>IND</td>\n",
       "      <td>Maharashtra</td>\n",
       "      <td>10500000</td>\n",
       "    </tr>\n",
       "    <tr>\n",
       "      <th>13</th>\n",
       "      <td>1025</td>\n",
       "      <td>Delhi</td>\n",
       "      <td>IND</td>\n",
       "      <td>Delhi</td>\n",
       "      <td>7206704</td>\n",
       "    </tr>\n",
       "    <tr>\n",
       "      <th>26</th>\n",
       "      <td>1026</td>\n",
       "      <td>Calcutta [Kolkata]</td>\n",
       "      <td>IND</td>\n",
       "      <td>West Bengali</td>\n",
       "      <td>4399819</td>\n",
       "    </tr>\n",
       "    <tr>\n",
       "      <th>34</th>\n",
       "      <td>1027</td>\n",
       "      <td>Chennai (Madras)</td>\n",
       "      <td>IND</td>\n",
       "      <td>Tamil Nadu</td>\n",
       "      <td>3841396</td>\n",
       "    </tr>\n",
       "    <tr>\n",
       "      <th>47</th>\n",
       "      <td>1028</td>\n",
       "      <td>Hyderabad</td>\n",
       "      <td>IND</td>\n",
       "      <td>Andhra Pradesh</td>\n",
       "      <td>2964638</td>\n",
       "    </tr>\n",
       "    <tr>\n",
       "      <th>51</th>\n",
       "      <td>1029</td>\n",
       "      <td>Ahmedabad</td>\n",
       "      <td>IND</td>\n",
       "      <td>Gujarat</td>\n",
       "      <td>2876710</td>\n",
       "    </tr>\n",
       "    <tr>\n",
       "      <th>58</th>\n",
       "      <td>1030</td>\n",
       "      <td>Bangalore</td>\n",
       "      <td>IND</td>\n",
       "      <td>Karnataka</td>\n",
       "      <td>2660088</td>\n",
       "    </tr>\n",
       "    <tr>\n",
       "      <th>99</th>\n",
       "      <td>1031</td>\n",
       "      <td>Kanpur</td>\n",
       "      <td>IND</td>\n",
       "      <td>Uttar Pradesh</td>\n",
       "      <td>1874409</td>\n",
       "    </tr>\n",
       "  </tbody>\n",
       "</table>\n",
       "</div>"
      ],
      "text/plain": [
       "      ID                Name CountryCode        District  Population\n",
       "0   1024     Mumbai (Bombay)         IND     Maharashtra    10500000\n",
       "13  1025               Delhi         IND           Delhi     7206704\n",
       "26  1026  Calcutta [Kolkata]         IND    West Bengali     4399819\n",
       "34  1027    Chennai (Madras)         IND      Tamil Nadu     3841396\n",
       "47  1028           Hyderabad         IND  Andhra Pradesh     2964638\n",
       "51  1029           Ahmedabad         IND         Gujarat     2876710\n",
       "58  1030           Bangalore         IND       Karnataka     2660088\n",
       "99  1031              Kanpur         IND   Uttar Pradesh     1874409"
      ]
     },
     "execution_count": 9,
     "metadata": {},
     "output_type": "execute_result"
    }
   ],
   "source": [
    "# sort a copy of the city df by descending population\n",
    "city_sorted = city.copy()\n",
    "city_sorted = city_sorted.sort_values(by=\"Population\", ascending=False).reset_index(drop=True)\n",
    "# keep only the first 100 rows\n",
    "city_sorted = city_sorted[0:100].copy()\n",
    "# how many of those have the country code IND?\n",
    "print(\"Cities in India:\", len(city_sorted[city_sorted[\"CountryCode\"]==india_code]))\n",
    "city_sorted[city_sorted[\"CountryCode\"]==india_code]"
   ]
  },
  {
   "cell_type": "markdown",
   "id": "36bbbcb1",
   "metadata": {},
   "source": [
    "**Q2** What is the most spoken official language in Tanzania? How many percent of people speak it, and how many people (in absolute numbers) speak it?"
   ]
  },
  {
   "cell_type": "code",
   "execution_count": 10,
   "id": "d82d792a",
   "metadata": {},
   "outputs": [
    {
     "data": {
      "text/plain": [
       "'TZA'"
      ]
     },
     "execution_count": 10,
     "metadata": {},
     "output_type": "execute_result"
    }
   ],
   "source": [
    "# find the country code of Tanzania (like for India in Q1)\n",
    "tanzania_code = country.loc[(country[\"Name\"]==\"Tanzania\"), \"Code\"].values[0]\n",
    "tanzania_code"
   ]
  },
  {
   "cell_type": "code",
   "execution_count": 11,
   "id": "b2675df5",
   "metadata": {},
   "outputs": [
    {
     "data": {
      "text/html": [
       "<div>\n",
       "<style scoped>\n",
       "    .dataframe tbody tr th:only-of-type {\n",
       "        vertical-align: middle;\n",
       "    }\n",
       "\n",
       "    .dataframe tbody tr th {\n",
       "        vertical-align: top;\n",
       "    }\n",
       "\n",
       "    .dataframe thead th {\n",
       "        text-align: right;\n",
       "    }\n",
       "</style>\n",
       "<table border=\"1\" class=\"dataframe\">\n",
       "  <thead>\n",
       "    <tr style=\"text-align: right;\">\n",
       "      <th></th>\n",
       "      <th>CountryCode</th>\n",
       "      <th>Language</th>\n",
       "      <th>IsOfficial</th>\n",
       "      <th>Percentage</th>\n",
       "    </tr>\n",
       "  </thead>\n",
       "  <tbody>\n",
       "    <tr>\n",
       "      <th>890</th>\n",
       "      <td>TZA</td>\n",
       "      <td>Swahili</td>\n",
       "      <td>T</td>\n",
       "      <td>8.8</td>\n",
       "    </tr>\n",
       "  </tbody>\n",
       "</table>\n",
       "</div>"
      ],
      "text/plain": [
       "    CountryCode Language IsOfficial  Percentage\n",
       "890         TZA  Swahili          T         8.8"
      ]
     },
     "execution_count": 11,
     "metadata": {},
     "output_type": "execute_result"
    }
   ],
   "source": [
    "# languages, filtered by country == Tanzania and official == T:\n",
    "language[(language[\"CountryCode\"]==tanzania_code)&(language[\"IsOfficial\"]==\"T\")]"
   ]
  },
  {
   "cell_type": "code",
   "execution_count": 12,
   "id": "4b5d3a63",
   "metadata": {},
   "outputs": [
    {
     "data": {
      "text/plain": [
       "2949000"
      ]
     },
     "execution_count": 12,
     "metadata": {},
     "output_type": "execute_result"
    }
   ],
   "source": [
    "# in absolute numbers: multiply population (see \"country\" data frame) by percentage\n",
    "tanzania_population = country.loc[country[\"Code\"]==tanzania_code, \"Population\"].values[0]\n",
    "swahili_percentage = language[(language[\"CountryCode\"]==tanzania_code)&(language[\"IsOfficial\"]==\"T\")][\"Percentage\"].values[0]\n",
    "total_swahili_speakers = int(round(tanzania_population * swahili_percentage/100, -3)) # rounding to thousands\n",
    "total_swahili_speakers\n",
    "# approximately 3 million people!"
   ]
  },
  {
   "cell_type": "markdown",
   "id": "88172fee",
   "metadata": {},
   "source": [
    "**Q3** What is the most spoken language in Tanzania? (including *all* languages, not just the \"official\" ones) How many percent of people speak it, and how many people (in absolute numbers) speak it?"
   ]
  },
  {
   "cell_type": "code",
   "execution_count": 13,
   "id": "3b0e1732",
   "metadata": {},
   "outputs": [
    {
     "data": {
      "text/html": [
       "<div>\n",
       "<style scoped>\n",
       "    .dataframe tbody tr th:only-of-type {\n",
       "        vertical-align: middle;\n",
       "    }\n",
       "\n",
       "    .dataframe tbody tr th {\n",
       "        vertical-align: top;\n",
       "    }\n",
       "\n",
       "    .dataframe thead th {\n",
       "        text-align: right;\n",
       "    }\n",
       "</style>\n",
       "<table border=\"1\" class=\"dataframe\">\n",
       "  <thead>\n",
       "    <tr style=\"text-align: right;\">\n",
       "      <th></th>\n",
       "      <th>CountryCode</th>\n",
       "      <th>Language</th>\n",
       "      <th>IsOfficial</th>\n",
       "      <th>Percentage</th>\n",
       "    </tr>\n",
       "  </thead>\n",
       "  <tbody>\n",
       "    <tr>\n",
       "      <th>0</th>\n",
       "      <td>TZA</td>\n",
       "      <td>Nyamwesi</td>\n",
       "      <td>F</td>\n",
       "      <td>21.1</td>\n",
       "    </tr>\n",
       "    <tr>\n",
       "      <th>1</th>\n",
       "      <td>TZA</td>\n",
       "      <td>Swahili</td>\n",
       "      <td>T</td>\n",
       "      <td>8.8</td>\n",
       "    </tr>\n",
       "    <tr>\n",
       "      <th>2</th>\n",
       "      <td>TZA</td>\n",
       "      <td>Hehet</td>\n",
       "      <td>F</td>\n",
       "      <td>6.9</td>\n",
       "    </tr>\n",
       "    <tr>\n",
       "      <th>3</th>\n",
       "      <td>TZA</td>\n",
       "      <td>Makonde</td>\n",
       "      <td>F</td>\n",
       "      <td>5.9</td>\n",
       "    </tr>\n",
       "    <tr>\n",
       "      <th>4</th>\n",
       "      <td>TZA</td>\n",
       "      <td>Haya</td>\n",
       "      <td>F</td>\n",
       "      <td>5.9</td>\n",
       "    </tr>\n",
       "    <tr>\n",
       "      <th>5</th>\n",
       "      <td>TZA</td>\n",
       "      <td>Nyakusa</td>\n",
       "      <td>F</td>\n",
       "      <td>5.4</td>\n",
       "    </tr>\n",
       "    <tr>\n",
       "      <th>6</th>\n",
       "      <td>TZA</td>\n",
       "      <td>Chaga and Pare</td>\n",
       "      <td>F</td>\n",
       "      <td>4.9</td>\n",
       "    </tr>\n",
       "    <tr>\n",
       "      <th>7</th>\n",
       "      <td>TZA</td>\n",
       "      <td>Luguru</td>\n",
       "      <td>F</td>\n",
       "      <td>4.9</td>\n",
       "    </tr>\n",
       "    <tr>\n",
       "      <th>8</th>\n",
       "      <td>TZA</td>\n",
       "      <td>Shambala</td>\n",
       "      <td>F</td>\n",
       "      <td>4.3</td>\n",
       "    </tr>\n",
       "    <tr>\n",
       "      <th>9</th>\n",
       "      <td>TZA</td>\n",
       "      <td>Gogo</td>\n",
       "      <td>F</td>\n",
       "      <td>3.9</td>\n",
       "    </tr>\n",
       "    <tr>\n",
       "      <th>10</th>\n",
       "      <td>TZA</td>\n",
       "      <td>Ha</td>\n",
       "      <td>F</td>\n",
       "      <td>3.5</td>\n",
       "    </tr>\n",
       "  </tbody>\n",
       "</table>\n",
       "</div>"
      ],
      "text/plain": [
       "   CountryCode        Language IsOfficial  Percentage\n",
       "0          TZA        Nyamwesi          F        21.1\n",
       "1          TZA         Swahili          T         8.8\n",
       "2          TZA           Hehet          F         6.9\n",
       "3          TZA         Makonde          F         5.9\n",
       "4          TZA            Haya          F         5.9\n",
       "5          TZA         Nyakusa          F         5.4\n",
       "6          TZA  Chaga and Pare          F         4.9\n",
       "7          TZA          Luguru          F         4.9\n",
       "8          TZA        Shambala          F         4.3\n",
       "9          TZA            Gogo          F         3.9\n",
       "10         TZA              Ha          F         3.5"
      ]
     },
     "execution_count": 13,
     "metadata": {},
     "output_type": "execute_result"
    }
   ],
   "source": [
    "# languages, filtered by country == Tanzania:\n",
    "languages_tza = language[(language[\"CountryCode\"]==tanzania_code)].reset_index(drop=True).copy()\n",
    "languages_tza = languages_tza.sort_values(by=\"Percentage\", ascending=False).reset_index(drop=True)\n",
    "languages_tza"
   ]
  },
  {
   "cell_type": "code",
   "execution_count": 14,
   "id": "a1601c48",
   "metadata": {},
   "outputs": [
    {
     "data": {
      "text/plain": [
       "'Nyamwesi'"
      ]
     },
     "execution_count": 14,
     "metadata": {},
     "output_type": "execute_result"
    }
   ],
   "source": [
    "languages_tza.loc[0,\"Language\"] # most spoken language"
   ]
  },
  {
   "cell_type": "code",
   "execution_count": 15,
   "id": "f55dcd04",
   "metadata": {},
   "outputs": [
    {
     "data": {
      "text/plain": [
       "7072000"
      ]
     },
     "execution_count": 15,
     "metadata": {},
     "output_type": "execute_result"
    }
   ],
   "source": [
    "# number of people speaking it:\n",
    "int(round(tanzania_population * languages_tza.loc[0,\"Percentage\"]/100 , -3))\n",
    "# approx 7 milliion people!"
   ]
  },
  {
   "cell_type": "markdown",
   "id": "c02fd665",
   "metadata": {},
   "source": [
    "**Q4** For each language, count in how many countries it is spoken. What are the 20 languages with the highest number of countries-they-are-spoken-in?\n",
    "\n"
   ]
  },
  {
   "cell_type": "code",
   "execution_count": 16,
   "id": "b0eb5b0b",
   "metadata": {},
   "outputs": [
    {
     "data": {
      "text/html": [
       "<div>\n",
       "<style scoped>\n",
       "    .dataframe tbody tr th:only-of-type {\n",
       "        vertical-align: middle;\n",
       "    }\n",
       "\n",
       "    .dataframe tbody tr th {\n",
       "        vertical-align: top;\n",
       "    }\n",
       "\n",
       "    .dataframe thead th {\n",
       "        text-align: right;\n",
       "    }\n",
       "</style>\n",
       "<table border=\"1\" class=\"dataframe\">\n",
       "  <thead>\n",
       "    <tr style=\"text-align: right;\">\n",
       "      <th></th>\n",
       "      <th>language</th>\n",
       "      <th>country_count</th>\n",
       "    </tr>\n",
       "  </thead>\n",
       "  <tbody>\n",
       "    <tr>\n",
       "      <th>0</th>\n",
       "      <td>English</td>\n",
       "      <td>60</td>\n",
       "    </tr>\n",
       "    <tr>\n",
       "      <th>1</th>\n",
       "      <td>Arabic</td>\n",
       "      <td>33</td>\n",
       "    </tr>\n",
       "    <tr>\n",
       "      <th>2</th>\n",
       "      <td>Spanish</td>\n",
       "      <td>28</td>\n",
       "    </tr>\n",
       "    <tr>\n",
       "      <th>3</th>\n",
       "      <td>French</td>\n",
       "      <td>25</td>\n",
       "    </tr>\n",
       "    <tr>\n",
       "      <th>4</th>\n",
       "      <td>German</td>\n",
       "      <td>19</td>\n",
       "    </tr>\n",
       "    <tr>\n",
       "      <th>5</th>\n",
       "      <td>Chinese</td>\n",
       "      <td>19</td>\n",
       "    </tr>\n",
       "    <tr>\n",
       "      <th>6</th>\n",
       "      <td>Russian</td>\n",
       "      <td>17</td>\n",
       "    </tr>\n",
       "    <tr>\n",
       "      <th>7</th>\n",
       "      <td>Italian</td>\n",
       "      <td>15</td>\n",
       "    </tr>\n",
       "    <tr>\n",
       "      <th>8</th>\n",
       "      <td>Creole English</td>\n",
       "      <td>14</td>\n",
       "    </tr>\n",
       "    <tr>\n",
       "      <th>9</th>\n",
       "      <td>Portuguese</td>\n",
       "      <td>12</td>\n",
       "    </tr>\n",
       "    <tr>\n",
       "      <th>10</th>\n",
       "      <td>Ukrainian</td>\n",
       "      <td>12</td>\n",
       "    </tr>\n",
       "    <tr>\n",
       "      <th>11</th>\n",
       "      <td>Ful</td>\n",
       "      <td>12</td>\n",
       "    </tr>\n",
       "    <tr>\n",
       "      <th>12</th>\n",
       "      <td>Turkish</td>\n",
       "      <td>12</td>\n",
       "    </tr>\n",
       "    <tr>\n",
       "      <th>13</th>\n",
       "      <td>Polish</td>\n",
       "      <td>10</td>\n",
       "    </tr>\n",
       "    <tr>\n",
       "      <th>14</th>\n",
       "      <td>Creole French</td>\n",
       "      <td>9</td>\n",
       "    </tr>\n",
       "    <tr>\n",
       "      <th>15</th>\n",
       "      <td>Serbo-Croatian</td>\n",
       "      <td>9</td>\n",
       "    </tr>\n",
       "    <tr>\n",
       "      <th>16</th>\n",
       "      <td>Romani</td>\n",
       "      <td>8</td>\n",
       "    </tr>\n",
       "    <tr>\n",
       "      <th>17</th>\n",
       "      <td>Hungarian</td>\n",
       "      <td>8</td>\n",
       "    </tr>\n",
       "    <tr>\n",
       "      <th>18</th>\n",
       "      <td>Hindi</td>\n",
       "      <td>8</td>\n",
       "    </tr>\n",
       "    <tr>\n",
       "      <th>19</th>\n",
       "      <td>Belorussian</td>\n",
       "      <td>7</td>\n",
       "    </tr>\n",
       "  </tbody>\n",
       "</table>\n",
       "</div>"
      ],
      "text/plain": [
       "          language  country_count\n",
       "0          English             60\n",
       "1           Arabic             33\n",
       "2          Spanish             28\n",
       "3           French             25\n",
       "4           German             19\n",
       "5          Chinese             19\n",
       "6          Russian             17\n",
       "7          Italian             15\n",
       "8   Creole English             14\n",
       "9       Portuguese             12\n",
       "10       Ukrainian             12\n",
       "11             Ful             12\n",
       "12         Turkish             12\n",
       "13          Polish             10\n",
       "14   Creole French              9\n",
       "15  Serbo-Croatian              9\n",
       "16          Romani              8\n",
       "17       Hungarian              8\n",
       "18           Hindi              8\n",
       "19     Belorussian              7"
      ]
     },
     "execution_count": 16,
     "metadata": {},
     "output_type": "execute_result"
    }
   ],
   "source": [
    "languages_list = []\n",
    "country_counts = []\n",
    "for lang, group in language.groupby(\"Language\"):\n",
    "    languages_list.append(lang)\n",
    "    country_counts.append(len(group[\"CountryCode\"].unique()))\n",
    "counts_df = pd.DataFrame(\n",
    "    {\n",
    "        \"language\":languages_list,\n",
    "        \"country_count\":country_counts\n",
    "    }\n",
    ")\n",
    "counts_df = counts_df.sort_values(by=\"country_count\", ascending=False).reset_index(drop=True)\n",
    "counts_df[0:20]"
   ]
  },
  {
   "cell_type": "markdown",
   "id": "5613f0f5",
   "metadata": {},
   "source": [
    "**Q5** Of all the languages spoken in only one country, which two are spoken by 100% of the population according to the data set?"
   ]
  },
  {
   "cell_type": "code",
   "execution_count": 17,
   "id": "709632c2",
   "metadata": {},
   "outputs": [],
   "source": [
    "languages_in_one_country = list(counts_df[counts_df[\"country_count\"]==1][\"language\"])"
   ]
  },
  {
   "cell_type": "code",
   "execution_count": 18,
   "id": "e02925aa",
   "metadata": {},
   "outputs": [
    {
     "data": {
      "text/html": [
       "<div>\n",
       "<style scoped>\n",
       "    .dataframe tbody tr th:only-of-type {\n",
       "        vertical-align: middle;\n",
       "    }\n",
       "\n",
       "    .dataframe tbody tr th {\n",
       "        vertical-align: top;\n",
       "    }\n",
       "\n",
       "    .dataframe thead th {\n",
       "        text-align: right;\n",
       "    }\n",
       "</style>\n",
       "<table border=\"1\" class=\"dataframe\">\n",
       "  <thead>\n",
       "    <tr style=\"text-align: right;\">\n",
       "      <th></th>\n",
       "      <th>CountryCode</th>\n",
       "      <th>Language</th>\n",
       "      <th>IsOfficial</th>\n",
       "      <th>Percentage</th>\n",
       "    </tr>\n",
       "  </thead>\n",
       "  <tbody>\n",
       "    <tr>\n",
       "      <th>296</th>\n",
       "      <td>FRO</td>\n",
       "      <td>Faroese</td>\n",
       "      <td>T</td>\n",
       "      <td>100.0</td>\n",
       "    </tr>\n",
       "    <tr>\n",
       "      <th>543</th>\n",
       "      <td>MDV</td>\n",
       "      <td>Dhivehi</td>\n",
       "      <td>T</td>\n",
       "      <td>100.0</td>\n",
       "    </tr>\n",
       "  </tbody>\n",
       "</table>\n",
       "</div>"
      ],
      "text/plain": [
       "    CountryCode Language IsOfficial  Percentage\n",
       "296         FRO  Faroese          T       100.0\n",
       "543         MDV  Dhivehi          T       100.0"
      ]
     },
     "execution_count": 18,
     "metadata": {},
     "output_type": "execute_result"
    }
   ],
   "source": [
    "language[(language[\"Language\"].isin(languages_in_one_country)) & (language[\"IsOfficial\"]==\"T\") & (language[\"Percentage\"]==100)]"
   ]
  },
  {
   "cell_type": "markdown",
   "id": "467e4a3f",
   "metadata": {},
   "source": [
    "# Task 2: `binary_search`\n",
    "\n",
    "Write a function `binary_search` that:\n",
    "* takes two input arguments: an **already sorted** list of numbers; and a **number**\n",
    "* returns `True` or `False`, depending on whether the number is on the list or not\n",
    "* implements a **binary search algorithm** (\"cutting the search space in half at each step\") to find out whether the number is on the list\n",
    "\n",
    "If you need some inspiration on how to approach this task, check out **Chapter 8  - Friday: Writing a Binary Search** from the CM book [**Python Projects for Beginners**](https://github.com/anastassiavybornova/learn-python-2025/blob/main/books/CM.pdf)\n",
    "\n",
    "You can use the `./numbers/numbers.csv` file (provided with this notebook) to test your function:\n",
    "* `binary_search(4403)` should return `True` (4403 is on the list)\n",
    "* `binary_search(52301)` should return False (52301 is not on the list)"
   ]
  },
  {
   "cell_type": "code",
   "execution_count": 19,
   "id": "5463233f",
   "metadata": {},
   "outputs": [],
   "source": [
    "# YOUR CODE HERE"
   ]
  },
  {
   "cell_type": "code",
   "execution_count": 20,
   "id": "4d9e416d",
   "metadata": {},
   "outputs": [],
   "source": [
    "def binary_search(my_sorted_list, my_item):\n",
    "    '''\n",
    "    function that uses the binary search algorithm\n",
    "    to find whether my_item is in my_list,\n",
    "    and if so, in which position\n",
    "    '''\n",
    "\n",
    "    # define the \"search limits\"\n",
    "    left_limit = 0\n",
    "    right_limit = len(my_sorted_list) - 1 # this is the index of the last element on the list\n",
    "\n",
    "    # while we still have a list with more than 1 number to search:\n",
    "    while left_limit <= right_limit:\n",
    "\n",
    "        # find the \"middle index\" (// gives us integer division, always rounds down to next integer)\n",
    "        middle_index = (right_limit + left_limit) // 2\n",
    "        \n",
    "        # if the item at middle_index position is the one we're looking for,\n",
    "        # we're done! we found the item on the list - so return True\n",
    "        if my_sorted_list[middle_index] == my_item:\n",
    "            return True\n",
    "        \n",
    "        # if at the \"middle\" position we have something SMALLER than my_item,\n",
    "        # my_item must be in the right half of the search space,\n",
    "        # so we need to modify the left limit:\n",
    "        elif my_sorted_list[middle_index] < my_item:\n",
    "            left_limit = middle_index + 1\n",
    "\n",
    "        # if at the \"middle\" position we have something BIGGER than my_item,\n",
    "        # then my_item must be in the left half of the search space,\n",
    "        # so we need to modify the right limit:\n",
    "        else:\n",
    "            right_limit = middle_index - 1\n",
    "\n",
    "    # the while loop ends when left_limit becomes smaller or equal to right limit,\n",
    "    # which means that we will have searched the entire space, but found no match;\n",
    "    # in that case it means our number is not on the list;\n",
    "    # then return False:\n",
    "    return False"
   ]
  },
  {
   "cell_type": "markdown",
   "id": "2e467555",
   "metadata": {},
   "source": [
    "**Read in the data from `numbers.csv` to a list**"
   ]
  },
  {
   "cell_type": "code",
   "execution_count": 21,
   "id": "3774ef53",
   "metadata": {},
   "outputs": [],
   "source": [
    "# import pandas\n",
    "import pandas as pd\n",
    "# read in numbers.csv into dataframe called \"df\"; \n",
    "# header = None means that in the csv, the first line is not a header row, but already contains data\n",
    "df = pd.read_csv(\"./numbers/numbers.csv\", header = None)\n",
    "# the numbers are in a column called \"0\" by default (because no header was provided);\n",
    "# use list() to convert the column into a list\n",
    "my_list = list(df[0])"
   ]
  },
  {
   "cell_type": "code",
   "execution_count": 22,
   "id": "624d6f0c",
   "metadata": {},
   "outputs": [],
   "source": [
    "# check if your function works as expected\n",
    "assert binary_search(my_list, 4403) == True\n",
    "assert binary_search(my_list, 52301) == False"
   ]
  },
  {
   "cell_type": "code",
   "execution_count": null,
   "id": "4ab0dade",
   "metadata": {},
   "outputs": [],
   "source": []
  }
 ],
 "metadata": {
  "kernelspec": {
   "display_name": "idsp25",
   "language": "python",
   "name": "python3"
  },
  "language_info": {
   "codemirror_mode": {
    "name": "ipython",
    "version": 3
   },
   "file_extension": ".py",
   "mimetype": "text/x-python",
   "name": "python",
   "nbconvert_exporter": "python",
   "pygments_lexer": "ipython3",
   "version": "3.12.11"
  }
 },
 "nbformat": 4,
 "nbformat_minor": 5
}
