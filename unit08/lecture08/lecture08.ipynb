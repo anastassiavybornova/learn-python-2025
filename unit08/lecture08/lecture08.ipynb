{
 "cells": [
  {
   "cell_type": "code",
   "execution_count": null,
   "id": "56a8b3a3",
   "metadata": {},
   "outputs": [],
   "source": [
    "import pandas as pd"
   ]
  },
  {
   "cell_type": "markdown",
   "id": "33966f7d",
   "metadata": {},
   "source": [
    "# Python Crash Course IDSP 2025 - Lecture 05\n",
    "\n",
    "* seeding of randomnes\n",
    "* type checking with isinstance()\n",
    "\n",
    "More pandas:\n",
    "\n",
    "* recap pandas so far\n",
    "* tilde operator\n",
    "* finding unique values\n",
    "* filtering out missing values\n",
    "* changing values in a cell\n",
    "* how not to do it (\"a value is being tried to set...\")\n",
    "* setting a data type for a series\n",
    "* groupby!!\n",
    "\n",
    "**Binary search algorithm** (if we get to it)"
   ]
  },
  {
   "cell_type": "markdown",
   "id": "0f3ee444",
   "metadata": {},
   "source": [
    "# More coding hacks\n",
    "\n",
    "* type checking with `isinstance()`\n",
    "* seeding of randomness with `random.seed()`"
   ]
  },
  {
   "cell_type": "code",
   "execution_count": null,
   "id": "b119a528",
   "metadata": {},
   "outputs": [],
   "source": [
    "# type checking\n",
    "# how to check if an object is of a certain type?\n",
    "type(3)==int # ok, but not ideal\n",
    "isinstance(3, int) # MUCH BETTER!"
   ]
  },
  {
   "cell_type": "code",
   "execution_count": null,
   "id": "39b18110",
   "metadata": {},
   "outputs": [],
   "source": [
    "# random seeding\n",
    "import random\n",
    "# random.seed(1312)\n",
    "random.choice(range(100))"
   ]
  },
  {
   "cell_type": "markdown",
   "id": "ea034d0e",
   "metadata": {},
   "source": [
    "# INSERT PANDAS RECAP"
   ]
  },
  {
   "cell_type": "markdown",
   "id": "08ef89e0",
   "metadata": {},
   "source": [
    "# pandas functions\n",
    "\n",
    "```python\n",
    "pd.read_csv()\n",
    "pd.DataFrame()\n",
    "pd.concat()\n",
    "```"
   ]
  },
  {
   "cell_type": "markdown",
   "id": "334114b2",
   "metadata": {},
   "source": [
    "# pandas DataFrame attributes\n",
    "```python\n",
    ".index\n",
    ".column\n",
    ".shape\n",
    "```"
   ]
  },
  {
   "cell_type": "markdown",
   "id": "94ae982d",
   "metadata": {},
   "source": [
    "# pandas methods for DataFrames\n",
    "\n",
    "```python\n",
    ".head()\n",
    ".tail()\n",
    ".describe()\n",
    ".sort_values()\n",
    ".drop()\n",
    ".reset_index()\n",
    "```"
   ]
  },
  {
   "cell_type": "markdown",
   "id": "0ddec38c",
   "metadata": {},
   "source": [
    "# Boolean indexing (filtering by condition)\n",
    "\n",
    "##### `df[columnlabel]` can be combined with comparison `> < == !=`  operators\n",
    "##### `conditions` can be combined with \"bitwise and\"  `&`, \"bitwise or\" `|`  operators\n",
    "##### `df[condition]` returns only those rows where condition is True\n",
    "##### `df[(condition1) & (condition2)]` returns only those rows where both conditions are True\n",
    "##### `df[(condition1) | (condition2)]` returns only those rows at least one of the conditions is True"
   ]
  },
  {
   "cell_type": "markdown",
   "id": "304994b7",
   "metadata": {},
   "source": [
    "***\n",
    "# Let's load our Titanic data set again"
   ]
  },
  {
   "cell_type": "code",
   "execution_count": null,
   "id": "93400e0b",
   "metadata": {},
   "outputs": [],
   "source": [
    "df = pd.read_csv(\"./data/titanic.csv\")"
   ]
  },
  {
   "cell_type": "markdown",
   "id": "10c07d63",
   "metadata": {},
   "source": [
    "# Try it out yourself!\n",
    "\n",
    "* read in the data one more time (we messed around with the old data frame) with `pd.read_csv()`\n",
    "* filter by 2 conditions: `\"Sex\"==\"female\"` and `\"Age\">60`\n",
    "* save a COPY of the filtered data set to the variable `old_ladies`\n",
    "* how many old ladies were on the Titanic? (`len()`)\n",
    "* how may of the old ladies were badass ladies that survived? `\"Survived\"==1`\n",
    "* what is the mean fare that the old ladies paid? (`.describe()`, or calculate it manually, or with `.mean()`)"
   ]
  },
  {
   "cell_type": "code",
   "execution_count": null,
   "id": "8e434eb6",
   "metadata": {},
   "outputs": [],
   "source": [
    "# YOUR CODE HERE"
   ]
  },
  {
   "cell_type": "markdown",
   "id": "887da3c0",
   "metadata": {},
   "source": [
    "***\n",
    "\n",
    "## UNIQUE VALUES"
   ]
  },
  {
   "cell_type": "code",
   "execution_count": null,
   "id": "9a8f1974",
   "metadata": {},
   "outputs": [],
   "source": [
    "# df.head(3)\n",
    "# set(df.Survived) # option 1\n",
    "# df[\"Survived\"].unique() # option 2"
   ]
  },
  {
   "cell_type": "markdown",
   "id": "c301a228",
   "metadata": {},
   "source": [
    "***\n",
    "\n",
    "## Tilde operator `~` in pandas means `not` (\"inversion\" operator)"
   ]
  },
  {
   "cell_type": "code",
   "execution_count": null,
   "id": "0e9ce026",
   "metadata": {},
   "outputs": [],
   "source": [
    "# everyone with an Age value below 18 (NA are not considered)\n",
    "df[df[\"Age\"] < 18]"
   ]
  },
  {
   "cell_type": "code",
   "execution_count": null,
   "id": "035de36d",
   "metadata": {},
   "outputs": [],
   "source": [
    "# everyone with an Age value above or equal 18 (NA are NOT considered)\n",
    "df[df[\"Age\"] >= 18]"
   ]
  },
  {
   "cell_type": "code",
   "execution_count": null,
   "id": "e79693c8",
   "metadata": {},
   "outputs": [],
   "source": [
    "# everyone with an Age value NOT below 18 (NA are CONSIDERED!)\n",
    "df[~(df[\"Age\"] < 18)]"
   ]
  },
  {
   "cell_type": "markdown",
   "id": "daece572",
   "metadata": {
    "vscode": {
     "languageId": "plaintext"
    }
   },
   "source": [
    "***\n",
    "\n",
    "## MISSING VALUES"
   ]
  },
  {
   "cell_type": "markdown",
   "id": "9ba66b41",
   "metadata": {},
   "source": [
    "### Filtering out missing values (NaNs) with boolean conditions\n",
    "\n",
    "* `NaN` .... \"not a number\"\n",
    "* pandas functions: `.isna()` and `.notna()` (isna = is not available, notna = not not available)\n",
    "* Note, for pandas: \"not available\" (includes both `NaN` and `None`)"
   ]
  },
  {
   "cell_type": "code",
   "execution_count": null,
   "id": "5e5dde1f",
   "metadata": {},
   "outputs": [],
   "source": [
    "df.head()\n",
    "# in rows with index 0,2,4 the Cabin data is missing"
   ]
  },
  {
   "cell_type": "code",
   "execution_count": null,
   "id": "be67d050",
   "metadata": {},
   "outputs": [],
   "source": [
    "df[\"Cabin\"].isna()\n",
    "# returns for each row whether data is NOT AVAILABLE (True) or available (False)"
   ]
  },
  {
   "cell_type": "code",
   "execution_count": null,
   "id": "dac90d5e",
   "metadata": {},
   "outputs": [],
   "source": [
    "df[\"Cabin\"].notna()\n",
    "# returns for each row whether data is AVAILABLE (True) and not available (False)"
   ]
  },
  {
   "cell_type": "markdown",
   "id": "febe91b0",
   "metadata": {},
   "source": [
    "### How to use `isna` and `notna` to clean data?"
   ]
  },
  {
   "cell_type": "code",
   "execution_count": null,
   "id": "f0240e88",
   "metadata": {},
   "outputs": [],
   "source": [
    "# boolean indexing to only have rows where we know the Cabin value:\n",
    "my_condition = df[\"Cabin\"].notna()\n",
    "df[my_condition]\n",
    "# or, shorter: df[df[\"Cabin\"].notna()]"
   ]
  },
  {
   "cell_type": "code",
   "execution_count": null,
   "id": "c3d11e38",
   "metadata": {},
   "outputs": [],
   "source": [
    "# filter by available data in *both* Age and Cabin columns \n",
    "df[(df['Age'].notna()) & (df['Cabin'].notna())]"
   ]
  },
  {
   "cell_type": "code",
   "execution_count": null,
   "id": "1b9c15f4",
   "metadata": {},
   "outputs": [],
   "source": [
    "# calling notna on entire dataframe:\n",
    "df.notna()"
   ]
  },
  {
   "cell_type": "markdown",
   "id": "3d21b918",
   "metadata": {},
   "source": [
    "### What if we don't want missing data ANYwhere?\n",
    "\n",
    "`.dropna()`\n",
    "\n",
    "has the optional parameter `axis`, default=0"
   ]
  },
  {
   "cell_type": "code",
   "execution_count": null,
   "id": "946d46db",
   "metadata": {},
   "outputs": [],
   "source": [
    "# calling docstring for help! Note we have to spell out the object\n",
    "# that the dropna method is applied to:\n",
    "#?dropna # doesn't work\n",
    "#?pd.dropna # doesn't work\n",
    "?pd.DataFrame.dropna \n",
    "# works!"
   ]
  },
  {
   "cell_type": "code",
   "execution_count": null,
   "id": "3713044c",
   "metadata": {},
   "outputs": [],
   "source": [
    "df.dropna() # drops all ROWS with missing values (in ANY of the columns)"
   ]
  },
  {
   "cell_type": "code",
   "execution_count": null,
   "id": "7e7efbbc",
   "metadata": {},
   "outputs": [],
   "source": [
    "df.dropna(axis=0) # drops all ROWS with missing values (in ANY of the columns) \n",
    "# (same as cell before; axis=0 is default value of optional parameter \"axis\")"
   ]
  },
  {
   "cell_type": "code",
   "execution_count": null,
   "id": "9b4ed48d",
   "metadata": {},
   "outputs": [],
   "source": [
    "df.dropna(axis=1) # drops all COLUMNS with missing values (in ANY of the rows)"
   ]
  },
  {
   "cell_type": "markdown",
   "id": "17b0b602",
   "metadata": {},
   "source": [
    "# How to *replace* missing values?\n",
    "\n",
    "rather than dropping entire rows/columns...\n",
    "\n",
    "`.fillna()`"
   ]
  },
  {
   "cell_type": "code",
   "execution_count": null,
   "id": "54309a39",
   "metadata": {},
   "outputs": [],
   "source": [
    "df.fillna(0)"
   ]
  },
  {
   "cell_type": "code",
   "execution_count": null,
   "id": "5803d24b",
   "metadata": {},
   "outputs": [],
   "source": [
    "df.fillna(\"no-info\")"
   ]
  },
  {
   "cell_type": "code",
   "execution_count": null,
   "id": "3c0fd585",
   "metadata": {},
   "outputs": [],
   "source": [
    "df[\"Cabin\"] = df[\"Cabin\"].fillna(\"no-cabin\") # this line of code changes the df!!\n",
    "df"
   ]
  },
  {
   "cell_type": "markdown",
   "id": "62af05ec",
   "metadata": {},
   "source": [
    "***"
   ]
  },
  {
   "cell_type": "markdown",
   "id": "bc7fbbb4",
   "metadata": {},
   "source": [
    "## Changing values in a cell\n",
    "\n",
    "#### `df.loc[rowlabel, columnlabel] = new_value`"
   ]
  },
  {
   "cell_type": "code",
   "execution_count": null,
   "id": "cbb33662",
   "metadata": {},
   "outputs": [],
   "source": [
    "# this will change the value in the cell of the first row, column \"Name\"\n",
    "df.loc[0, \"Name\"] = \"S.O.S\" # assigning CHANGES the object!\n",
    "df.head()"
   ]
  },
  {
   "cell_type": "code",
   "execution_count": null,
   "id": "3512a977",
   "metadata": {},
   "outputs": [],
   "source": [
    "# this will change the value in the cells of the first 3 rows, column \"Name\"\n",
    "df.loc[[0,1,2], \"Name\"] = \"Not Me Please!\" # assigning CHANGES the object!\n",
    "df.head()"
   ]
  },
  {
   "cell_type": "markdown",
   "id": "21a7b272",
   "metadata": {},
   "source": [
    "***\n",
    "\n",
    "## Replacing values \"dynamically\"\n",
    "\n",
    "`.replace()`"
   ]
  },
  {
   "cell_type": "code",
   "execution_count": null,
   "id": "2c1101ba",
   "metadata": {},
   "outputs": [],
   "source": [
    "?replace # correct to see the docstring!"
   ]
  },
  {
   "cell_type": "code",
   "execution_count": null,
   "id": "c3d9b99d",
   "metadata": {},
   "outputs": [],
   "source": [
    "df.replace(to_replace=0, value=\"zero\")"
   ]
  },
  {
   "cell_type": "markdown",
   "id": "b500bef8",
   "metadata": {},
   "source": [
    "***\n",
    "\n",
    "## SettingWithCopyWarning\n",
    "\n",
    "... and how to debug"
   ]
  },
  {
   "cell_type": "code",
   "execution_count": null,
   "id": "05516e06",
   "metadata": {},
   "outputs": [],
   "source": [
    "# let's add a column, \"lifeboat\"...\n",
    "df[\"lifeboat\"] = None\n",
    "# and let's assume all kids were taken to a lifeboat:\n",
    "df[df[\"Age\"]<18] # for these rows, we want lifeboat=True\n",
    "df[df[\"Age\"]<18][\"lifeboat\"] # so we need to set all these values to True\n",
    "df[df[\"Age\"]<18][\"lifeboat\"] = True\n",
    "df.head(20) # why didn't it work?"
   ]
  },
  {
   "cell_type": "markdown",
   "id": "6d5a439d",
   "metadata": {},
   "source": [
    "# Try it out yourself!\n",
    "\n",
    "This line of code \n",
    "\n",
    "```python\n",
    "df[df[\"Age\"]<18][\"lifeboat\"] = True\n",
    "```\n",
    "\n",
    "raised this error message:\n",
    "```\n",
    "/var/folders/66/3jkth_7d5gggg6pyr8yywwt40000gn/T/ipykernel_93168/2070943703.py:6: SettingWithCopyWarning: \n",
    "A value is trying to be set on a copy of a slice from a DataFrame.\n",
    "Try using .loc[row_indexer,col_indexer] = value instead\n",
    "\n",
    "See the caveats in the documentation: https://pandas.pydata.org/pandas-docs/stable/user_guide/indexing.html#returning-a-view-versus-a-copy\n",
    "  df[df[\"Age\"]<18][\"lifeboat\"] = True\n",
    "```\n",
    "\n",
    "Use the documentation (link in error message!) & google/StackOverflow to figure out how to *correct* the line of code."
   ]
  },
  {
   "cell_type": "code",
   "execution_count": null,
   "id": "b6a3903b",
   "metadata": {},
   "outputs": [],
   "source": [
    "# YOUR DEBUGGED CODE HERE"
   ]
  },
  {
   "cell_type": "markdown",
   "id": "7abd6975",
   "metadata": {},
   "source": []
  },
  {
   "cell_type": "markdown",
   "id": "b4b8016d",
   "metadata": {},
   "source": [
    "***\n",
    "\n",
    "## GROUPING 😱\n"
   ]
  },
  {
   "cell_type": "code",
   "execution_count": null,
   "id": "274e8695",
   "metadata": {},
   "outputs": [],
   "source": [
    "grouping = df.groupby(\"Sex\")\n",
    "grouping"
   ]
  },
  {
   "cell_type": "code",
   "execution_count": null,
   "id": "5f13602a",
   "metadata": {},
   "outputs": [],
   "source": [
    "for group in grouping:\n",
    "    print(group)\n",
    "    #print(len(group))\n",
    "    #print(type(group))"
   ]
  },
  {
   "cell_type": "code",
   "execution_count": null,
   "id": "726de77e",
   "metadata": {},
   "outputs": [],
   "source": [
    "for a, b in grouping:\n",
    "    print(a)"
   ]
  },
  {
   "cell_type": "code",
   "execution_count": null,
   "id": "78c82996",
   "metadata": {},
   "outputs": [],
   "source": [
    "for a, b in grouping:\n",
    "    print(b)"
   ]
  },
  {
   "cell_type": "code",
   "execution_count": null,
   "id": "af0949f6",
   "metadata": {},
   "outputs": [],
   "source": [
    "group_list = []\n",
    "for a, b in grouping:\n",
    "    group_list.append(b)\n",
    "group_list[0]\n",
    "group_list[1]"
   ]
  },
  {
   "cell_type": "code",
   "execution_count": null,
   "id": "eea60ce9",
   "metadata": {},
   "outputs": [],
   "source": [
    "grouping[\"Age\"].mean()"
   ]
  },
  {
   "cell_type": "code",
   "execution_count": null,
   "id": "d099d70d",
   "metadata": {},
   "outputs": [],
   "source": [
    "grouping[\"Fare\"].mean()"
   ]
  },
  {
   "cell_type": "code",
   "execution_count": null,
   "id": "3935df0f",
   "metadata": {},
   "outputs": [],
   "source": [
    "grouping.Age.max()"
   ]
  },
  {
   "cell_type": "markdown",
   "id": "8a4d8382",
   "metadata": {},
   "source": [
    "# Try it out yourself!\n",
    "\n",
    "Use `.groupby()` to compute the mean ages of Survived vs. not-Survived passengers.\n",
    "\n",
    "There are many ways to solve this, but you could do it with one single line of code!"
   ]
  },
  {
   "cell_type": "code",
   "execution_count": null,
   "id": "49521182",
   "metadata": {},
   "outputs": [],
   "source": [
    "# YOUR CODE HERE"
   ]
  },
  {
   "cell_type": "markdown",
   "id": "609ca172",
   "metadata": {},
   "source": [
    "***\n",
    "\n",
    "# Binary search...\n",
    "\n",
    "(PDF slides & `.py` file shown in class)"
   ]
  },
  {
   "cell_type": "code",
   "execution_count": null,
   "id": "9aa279c1",
   "metadata": {},
   "outputs": [],
   "source": []
  }
 ],
 "metadata": {
  "kernelspec": {
   "display_name": "idsp25",
   "language": "python",
   "name": "python3"
  },
  "language_info": {
   "codemirror_mode": {
    "name": "ipython",
    "version": 3
   },
   "file_extension": ".py",
   "mimetype": "text/x-python",
   "name": "python",
   "nbconvert_exporter": "python",
   "pygments_lexer": "ipython3",
   "version": "3.12.11"
  }
 },
 "nbformat": 4,
 "nbformat_minor": 5
}
